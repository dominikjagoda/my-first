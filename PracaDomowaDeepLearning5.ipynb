{
  "nbformat": 4,
  "nbformat_minor": 0,
  "metadata": {
    "accelerator": "GPU",
    "anaconda-cloud": {},
    "colab": {
      "name": "PracaDomowaDeepLearning5.ipynb",
      "provenance": [],
      "collapsed_sections": [],
      "include_colab_link": true
    },
    "kernelspec": {
      "display_name": "Python 3",
      "name": "python3"
    }
  },
  "cells": [
    {
      "cell_type": "markdown",
      "metadata": {
        "id": "view-in-github",
        "colab_type": "text"
      },
      "source": [
        "<a href=\"https://colab.research.google.com/github/dominikjagoda/my-first/blob/main/PracaDomowaDeepLearning5.ipynb\" target=\"_parent\"><img src=\"https://colab.research.google.com/assets/colab-badge.svg\" alt=\"Open In Colab\"/></a>"
      ]
    },
    {
      "cell_type": "markdown",
      "metadata": {
        "id": "oAR9eXS9nmXX"
      },
      "source": [
        "# Modified version of:\n",
        "https://github.com/moritzhambach/Image-Augmentation-in-Keras-CIFAR-10-/blob/master/CNN%20with%20Image%20Augmentation%20(CIFAR10).ipynb \n",
        "\n"
      ]
    },
    {
      "cell_type": "markdown",
      "metadata": {
        "id": "8qBgJ2gkHPGM"
      },
      "source": [
        "### CNN with Image Augmentation (CIFAR10)\n",
        "images of 10 categories: airplane, automobile, bird, cat, deer, dog, frog, horse, ship and truck. In RGB, 32x32 pixels. \n"
      ]
    },
    {
      "cell_type": "markdown",
      "metadata": {
        "id": "TSJ01CTOAlM8"
      },
      "source": [
        "Naszym zadaniem jest zbudować jak najbardziej wydajny program do klasyfikacji zdjęć uczący się na bardzo małej próbce danych. Proponuję użyć rozmiarów próbek treningowych:\n",
        "\n",
        "1.    500 obrazków\n",
        "2.   1000 obrazków\n",
        "3.   5000 obrazków.\n",
        "Za każdym razem używamy 10 000 przypadków jako zbioru testowego. Selekcjonujemy z danych tylko trzy klasy obrazków: samochody, ptaki i samoloty (żeby było łatwiej).\n",
        "\n",
        "To jest tylko szkielet programu - dokonuje klasyfikacji, ale jest daleki od optimum.\n",
        "\n",
        "**Państwa zadaniem jest:**\n",
        "\n",
        "1.   Dodać modyfikację obrazów (augmentacja). Jest to zrobione w formie szkieletowej, wariancje parametrów wynoszą zero. Proponuję na początek zmieniać (ta sama zmienna dla dwóch przesunięć i powiększenia):\n",
        "  *   rotation_range=rotation_range,\n",
        "  *    width_shift_range=shift_range,\n",
        "  *    height_shift_range=shift_range,\n",
        "  *    zoom_range=shift_range  \n",
        "Oczywiście można potem zwiększyć liczbę optymalizowanych parametrów. \n",
        "2. Dodać K-folding np. 5-krotny. Walidację przeprowadamy na 1/5 zbioru treningowego, uczenie na 4/5. Końcowy klasyfikator jest uśrednionym klasyfikatorem z tych pięciu.\n",
        "3. Dodać optymalizację. Optymalizujemy w pierwszym podejściu trzy zmienne:\n",
        "  *   rotation_range\n",
        "  *   shift_range\n",
        "  *   num_filters - liczba filtrów w warstwie ukrytej.\n",
        "\n",
        "  Optymalizujemy **bez użycia** danych testowych, tylko posiłkując się danymi walidacyjnym z k-folding. Można optymalizować np. średnią dokładność (accuracy) wszystkich pięciu sieci z k-foldingu. Optymalizację można najpierw prowadzić dla 5 kroków, jak program będzie już działać to dla 30-50 kroków\n",
        "4. Dla optymalnych parametrów przeprowadzić końcowy trening, narysować \"accuracy\" dla wszystkich sieci z k-foldingu i zbudować końcowy klasyfikator (średnia z wszystkich klasyfikatorów z k-foldingu).\n",
        "5. Znaleźć \"accuracy\" oraz \"confusion matrix\" dla końcowego klasyfikatora. \n",
        "6. Można powtórzyć dla innej liczby obrazków w zbiorze treningowym. \n",
        "\n",
        "7. Można optymalizować także:\n",
        "*  drop_dense2\n",
        "*  drop_conv2\n",
        "*  liczbę \"bloków\" w sieci konwolucyjnej (obecnie trzy)\n",
        "\n",
        "8. UWAGA: sieć zoptymalizowana dla małej liczby obrazków treningowych może nie być optymalna dla ich dużej liczby\n",
        "\n",
        "Dużo pracy, ale to kompletny projekt!!!\n",
        "\n",
        "\n",
        "\n",
        "\n"
      ]
    },
    {
      "cell_type": "code",
      "metadata": {
        "id": "snNjoUZSHPGM",
        "scrolled": true
      },
      "source": [
        "import tensorflow as tf\n",
        "import numpy as np                                \n",
        "import matplotlib.pyplot as plt\n",
        "import keras as k\n",
        "from keras.datasets import cifar10\n",
        "from keras.models import Sequential\n",
        "from keras.layers import Dense, Dropout, Flatten\n",
        "from keras.layers import Conv2D, MaxPooling2D, BatchNormalization\n",
        "from keras.optimizers import SGD, Adam\n",
        "from keras.regularizers import l2\n",
        "import h5py\n",
        "from keras.models import load_model\n",
        "from keras.preprocessing.image import ImageDataGenerator\n",
        "\n",
        "from keras.callbacks import EarlyStopping\n",
        "\n",
        "from sklearn.model_selection import KFold"
      ],
      "execution_count": null,
      "outputs": []
    },
    {
      "cell_type": "code",
      "metadata": {
        "colab": {
          "base_uri": "https://localhost:8080/"
        },
        "id": "gtG1Q2weIxX0",
        "outputId": "b60f21e4-ec89-41fa-df99-067b9dd02a28"
      },
      "source": [
        "#load data\n",
        "(x_train, y_train), (x_test, y_test) = cifar10.load_data()\n",
        "img_rows, img_cols , channels= 32,32,3\n",
        "\n",
        "# select three classes only and limited number of events\n",
        "\n",
        "N_TRAIN_EXAMPLES = 1000  # very little!!!!\n",
        "#N_TEST_EXAMPLES = 100\n",
        "N_CLASSES = 3\n",
        "\n",
        "print(\"Original data\")\n",
        "print(x_train.shape)\n",
        "print(y_train.shape)\n",
        "print(x_test.shape)\n",
        "print(y_test.shape)\n",
        "\n",
        "indices = np.where(y_train < N_CLASSES) # 3 classes only\n",
        "indices = indices[0]\n",
        "np.random.shuffle(indices)\n",
        "x_train = x_train[indices]\n",
        "y_train = y_train[indices]\n",
        "\n",
        "\n",
        "indices = np.where(y_test < N_CLASSES) # 3 classes only\n",
        "indices = indices[0]\n",
        "np.random.shuffle(indices)\n",
        "x_test = x_test[indices]\n",
        "y_test = y_test[indices]\n",
        "\n",
        "\n",
        "x_train = x_train[:N_TRAIN_EXAMPLES] # only N_TRAIN_EXAMPLES\n",
        "y_train = y_train[:N_TRAIN_EXAMPLES]\n",
        "\n",
        "print(\" \")\n",
        "print(\"Truncated data\")\n",
        "print(x_train.shape)\n",
        "print(y_train.shape)\n",
        "print(x_test.shape)\n",
        "print(y_test.shape)\n",
        "\n"
      ],
      "execution_count": null,
      "outputs": [
        {
          "output_type": "stream",
          "text": [
            "Downloading data from https://www.cs.toronto.edu/~kriz/cifar-10-python.tar.gz\n",
            "170500096/170498071 [==============================] - 11s 0us/step\n",
            "Original data\n",
            "(50000, 32, 32, 3)\n",
            "(50000, 1)\n",
            "(10000, 32, 32, 3)\n",
            "(10000, 1)\n",
            " \n",
            "Truncated data\n",
            "(1000, 32, 32, 3)\n",
            "(1000, 1)\n",
            "(3000, 32, 32, 3)\n",
            "(3000, 1)\n"
          ],
          "name": "stdout"
        }
      ]
    },
    {
      "cell_type": "code",
      "metadata": {
        "colab": {
          "base_uri": "https://localhost:8080/",
          "height": 683
        },
        "id": "6enbAyUMJ-wL",
        "outputId": "b996acdd-3614-4c49-9b1e-3c686d1390f8"
      },
      "source": [
        "# save x_test images\n",
        "xx_test = x_test\n",
        "yy_test = y_test\n",
        "\n",
        "fig = plt.figure(figsize=(12, 12))\n",
        "for i in range(0,9):\n",
        "    plt.subplot(330 + 1 + i)\n",
        "    plt.axis('off')\n",
        "    #print(x_train[i].shape)\n",
        "    plt.imshow(x_train[i])\n",
        "plt.show()"
      ],
      "execution_count": null,
      "outputs": [
        {
          "output_type": "display_data",
          "data": {
            "image/png": "[encoded data removed]",
            "text/plain": [
              "<Figure size 864x864 with 9 Axes>"
            ]
          },
          "metadata": {
            "tags": [],
            "needs_background": "light"
          }
        }
      ]
    },
    {
      "cell_type": "code",
      "metadata": {
        "id": "tZ_muzrBHPGQ"
      },
      "source": [
        "# set up image augmentation\n",
        "\n",
        "rotation_range=30\n",
        "shift_range=0.30\n",
        "\n",
        "datagen = ImageDataGenerator( \n",
        "      rotation_range=rotation_range,\n",
        "      horizontal_flip=True,\n",
        "      width_shift_range=shift_range,\n",
        "      height_shift_range=shift_range,\n",
        "      zoom_range=shift_range\n",
        "      )  \n"
      ],
      "execution_count": null,
      "outputs": []
    },
    {
      "cell_type": "code",
      "metadata": {
        "colab": {
          "base_uri": "https://localhost:8080/",
          "height": 683
        },
        "id": "xu6fdqFnHPGQ",
        "outputId": "76cfed85-5190-4012-8166-038033ba8d46"
      },
      "source": [
        "# see example augmentation images\n",
        "fig = plt.figure(figsize=(12, 12))\n",
        "for X_batch, y_batch in datagen.flow(x_train, y_train, batch_size=9):\n",
        "    for i in range(0, 9):\n",
        "         plt.subplot(330 + 1 + i)\n",
        "         plt.imshow(X_batch[i].astype(np.uint8))\n",
        "         plt.axis('off')\n",
        "    plt.show()\n",
        "    break\n",
        "\n",
        "   "
      ],
      "execution_count": null,
      "outputs": [
        {
          "output_type": "display_data",
          "data": {
            "image/png": "[encoded data removed]",
            "text/plain": [
              "<Figure size 864x864 with 9 Axes>"
            ]
          },
          "metadata": {
            "tags": [],
            "needs_background": "light"
          }
        }
      ]
    },
    {
      "cell_type": "markdown",
      "metadata": {
        "id": "W5MWp2tgcUoG"
      },
      "source": [
        "Augmentation of a single image"
      ]
    },
    {
      "cell_type": "code",
      "metadata": {
        "colab": {
          "base_uri": "https://localhost:8080/",
          "height": 683
        },
        "id": "LE3aqeqqX6ow",
        "outputId": "ea08748b-3f7c-4fe1-efb1-eb0298f4a6d8"
      },
      "source": [
        "# see example augmentation images\n",
        "fig = plt.figure(figsize=(12, 12))\n",
        "\n",
        "for i in range(0, 25):\n",
        "    for X_batch, y_batch in datagen.flow(x_train[1:3], y_train[1:3], batch_size=1, shuffle=False):\n",
        "         plt.subplot(5,5,i+1)\n",
        "         plt.imshow(X_batch[0].astype(np.uint8))\n",
        "         plt.axis('off')\n",
        "         break\n",
        "\n",
        "plt.show()\n",
        "    \n"
      ],
      "execution_count": null,
      "outputs": [
        {
          "output_type": "display_data",
          "data": {
            "image/png": "[encoded data removed]",
            "text/plain": [
              "<Figure size 864x864 with 25 Axes>"
            ]
          },
          "metadata": {
            "tags": [],
            "needs_background": "light"
          }
        }
      ]
    },
    {
      "cell_type": "code",
      "metadata": {
        "colab": {
          "base_uri": "https://localhost:8080/"
        },
        "id": "sjtGRbiyHPGR",
        "outputId": "0cb8582c-e495-46b8-efe0-e210ef75cb6c"
      },
      "source": [
        "#reshape into images\n",
        "x_train = x_train.reshape(x_train.shape[0], img_rows, img_cols, channels)\n",
        "x_test = x_test.reshape(x_test.shape[0], img_rows, img_cols, channels)\n",
        "#input_shape = (img_rows, img_cols, 1)\n",
        "print('x_train shape:', x_train.shape)\n",
        "print(x_train.shape[0], 'train samples')\n",
        "print(x_test.shape[0], 'test samples')"
      ],
      "execution_count": null,
      "outputs": [
        {
          "output_type": "stream",
          "text": [
            "x_train shape: (1000, 32, 32, 3)\n",
            "1000 train samples\n",
            "3000 test samples\n"
          ],
          "name": "stdout"
        }
      ]
    },
    {
      "cell_type": "code",
      "metadata": {
        "id": "aEGtafd9HPGR"
      },
      "source": [
        "#convert integers to float; normalise and center the mean\n",
        "x_train=x_train.astype(\"float32\")  \n",
        "x_test=x_test.astype(\"float32\")\n",
        "mean=np.mean(x_train)\n",
        "std=np.std(x_train)\n",
        "x_test=(x_test-mean)/std\n",
        "x_train=(x_train-mean)/std"
      ],
      "execution_count": null,
      "outputs": []
    },
    {
      "cell_type": "code",
      "metadata": {
        "id": "VcXO5V69HPGR"
      },
      "source": [
        " # labels to categorical - output is a vector with length = number of classes\n",
        "y_train = k.utils.to_categorical(y_train, N_CLASSES)\n",
        "y_test = k.utils.to_categorical(y_test, N_CLASSES)"
      ],
      "execution_count": null,
      "outputs": []
    },
    {
      "cell_type": "markdown",
      "metadata": {
        "id": "UL6npA3TfQsW"
      },
      "source": [
        "# **Optuna & K-FOLDING optimization**\n",
        "\n",
        "\n",
        "\n"
      ]
    },
    {
      "cell_type": "markdown",
      "metadata": {
        "id": "yQY12Xt1OJFW"
      },
      "source": [
        "Create convolutional network"
      ]
    },
    {
      "cell_type": "code",
      "metadata": {
        "id": "g2NeeBeXfXaV"
      },
      "source": [
        "def create_model(num_filters2):\n",
        "\n",
        "  #reg=l2(1e-4)   # L2 or \"ridge\" regularisation\n",
        "  reg2=None\n",
        "  num_filters2=32\n",
        "  ac2='relu'\n",
        "  adm2=Adam(lr=0.001,decay=0, beta_1=0.9, beta_2=0.999, epsilon=1e-08)\n",
        "  opt2=adm2\n",
        "  drop_dense2=0.5\n",
        "  drop_conv2=0\n",
        "\n",
        "  model2 = Sequential()\n",
        "\n",
        "  model2.add(Conv2D(num_filters2, (3, 3), activation=ac2, kernel_regularizer=reg2, input_shape=(img_rows, img_cols, channels),padding='same'))\n",
        "  model2.add(BatchNormalization(axis=-1))\n",
        "  model2.add(Conv2D(num_filters2, (3, 3), activation=ac2,kernel_regularizer=reg2,padding='same'))\n",
        "  model2.add(BatchNormalization(axis=-1))\n",
        "  model2.add(MaxPooling2D(pool_size=(2, 2)))   # reduces to 16x16x3xnum_filters\n",
        "  model2.add(Dropout(drop_conv2))\n",
        "\n",
        "  model2.add(Conv2D(2*num_filters2, (3, 3), activation=ac2,kernel_regularizer=reg2,padding='same'))\n",
        "  model2.add(BatchNormalization(axis=-1))\n",
        "  model2.add(Conv2D(2*num_filters2, (3, 3), activation=ac2,kernel_regularizer=reg2,padding='same'))\n",
        "  model2.add(BatchNormalization(axis=-1))\n",
        "  model2.add(MaxPooling2D(pool_size=(2, 2)))   # reduces to 8x8x3x(2*num_filters)\n",
        "  model2.add(Dropout(drop_conv2))\n",
        "\n",
        "  model2.add(Conv2D(4*num_filters2, (3, 3), activation=ac2,kernel_regularizer=reg2,padding='same'))\n",
        "  model2.add(BatchNormalization(axis=-1))\n",
        "  model2.add(Conv2D(4*num_filters2, (3, 3), activation=ac2,kernel_regularizer=reg2,padding='same'))\n",
        "  model2.add(BatchNormalization(axis=-1))\n",
        "  model2.add(MaxPooling2D(pool_size=(2, 2)))   # reduces to 4x4x3x(4*num_filters)\n",
        "  model2.add(Dropout(drop_conv2))\n",
        "\n",
        "  model2.add(Flatten())\n",
        "  model2.add(Dense(512, activation=ac2,kernel_regularizer=reg2))\n",
        "  model2.add(BatchNormalization())\n",
        "  model2.add(Dropout(drop_dense2))\n",
        "  model2.add(Dense(N_CLASSES, activation='softmax'))\n",
        "\n",
        "  model2.compile(loss='categorical_crossentropy', metrics=['accuracy'],optimizer=opt2)\n",
        "\n",
        "  return model2"
      ],
      "execution_count": null,
      "outputs": []
    },
    {
      "cell_type": "markdown",
      "metadata": {
        "id": "kY2J_SeJOOA2"
      },
      "source": [
        "Fit convolutional network"
      ]
    },
    {
      "cell_type": "code",
      "metadata": {
        "id": "9xh9N4FXgeCa"
      },
      "source": [
        "def fit_model(model2, datagen, x_train, y_train, x_val, y_val):\n",
        "\n",
        "  # train with image augmentation\n",
        "\n",
        "  #es = EarlyStopping(\n",
        "   # monitor=\"val_accuracy\",\n",
        "    #patience=60,\n",
        "    #verbose=1\n",
        "  #)\n",
        "\n",
        "  history2=model2.fit(datagen.flow(x_train, y_train, batch_size=128),\n",
        "                     batch_size=128, epochs=150, validation_data=(x_val, y_val), verbose=0)\n",
        "  return history2, model2"
      ],
      "execution_count": null,
      "outputs": []
    },
    {
      "cell_type": "markdown",
      "metadata": {
        "id": "6TAzXJDbORfd"
      },
      "source": [
        "Optimization using optuna or hyperopt"
      ]
    },
    {
      "cell_type": "code",
      "metadata": {
        "colab": {
          "base_uri": "https://localhost:8080/"
        },
        "id": "oPKpwNpuhHHN",
        "outputId": "0dc6c1ba-3f81-4657-ccdf-091b8afc7dcc"
      },
      "source": [
        "# OPTUNA\n",
        "\n",
        "! pip install optuna\n",
        "\n",
        "import optuna\n",
        "\n",
        "# or hyperopt\n",
        "# import hyperopt"
      ],
      "execution_count": null,
      "outputs": [
        {
          "output_type": "stream",
          "text": [
            "Collecting optuna\n",
            "\u001b[?25l  Downloading https://files.pythonhosted.org/packages/59/b4/a1a80252cef3d8f5a0acdf6e678d6dc07e2e6964ee46d0453a2ae1af1ecb/optuna-2.4.0-py3-none-any.whl (282kB)\n",
            "\r\u001b[K     |█▏                              | 10kB 16.4MB/s eta 0:00:01\r\u001b[K     |██▎                             | 20kB 11.5MB/s eta 0:00:01\r\u001b[K     |███▌                            | 30kB 8.2MB/s eta 0:00:01\r\u001b[K     |████▋                           | 40kB 7.3MB/s eta 0:00:01\r\u001b[K     |█████▉                          | 51kB 4.5MB/s eta 0:00:01\r\u001b[K     |███████                         | 61kB 5.0MB/s eta 0:00:01\r\u001b[K     |████████▏                       | 71kB 4.9MB/s eta 0:00:01\r\u001b[K     |█████████▎                      | 81kB 5.3MB/s eta 0:00:01\r\u001b[K     |██████████▍                     | 92kB 5.4MB/s eta 0:00:01\r\u001b[K     |███████████▋                    | 102kB 4.3MB/s eta 0:00:01\r\u001b[K     |████████████▊                   | 112kB 4.3MB/s eta 0:00:01\r\u001b[K     |██████████████                  | 122kB 4.3MB/s eta 0:00:01\r\u001b[K     |███████████████                 | 133kB 4.3MB/s eta 0:00:01\r\u001b[K     |████████████████▎               | 143kB 4.3MB/s eta 0:00:01\r\u001b[K     |█████████████████▍              | 153kB 4.3MB/s eta 0:00:01\r\u001b[K     |██████████████████▌             | 163kB 4.3MB/s eta 0:00:01\r\u001b[K     |███████████████████▊            | 174kB 4.3MB/s eta 0:00:01\r\u001b[K     |████████████████████▉           | 184kB 4.3MB/s eta 0:00:01\r\u001b[K     |██████████████████████          | 194kB 4.3MB/s eta 0:00:01\r\u001b[K     |███████████████████████▏        | 204kB 4.3MB/s eta 0:00:01\r\u001b[K     |████████████████████████▍       | 215kB 4.3MB/s eta 0:00:01\r\u001b[K     |█████████████████████████▌      | 225kB 4.3MB/s eta 0:00:01\r\u001b[K     |██████████████████████████▋     | 235kB 4.3MB/s eta 0:00:01\r\u001b[K     |███████████████████████████▉    | 245kB 4.3MB/s eta 0:00:01\r\u001b[K     |█████████████████████████████   | 256kB 4.3MB/s eta 0:00:01\r\u001b[K     |██████████████████████████████▏ | 266kB 4.3MB/s eta 0:00:01\r\u001b[K     |███████████████████████████████▎| 276kB 4.3MB/s eta 0:00:01\r\u001b[K     |████████████████████████████████| 286kB 4.3MB/s \n",
            "\u001b[?25hCollecting colorlog\n",
            "  Downloading https://files.pythonhosted.org/packages/5e/39/0230290df0519d528d8d0ffdfd900150ed24e0076d13b1f19e279444aab1/colorlog-4.7.2-py2.py3-none-any.whl\n",
            "Collecting cmaes>=0.6.0\n",
            "  Downloading https://files.pythonhosted.org/packages/8d/3c/06c76ec8b54b9b1fad7f35e903fd25010fe3e0d41bd94cea5e6f12e0d651/cmaes-0.7.0-py3-none-any.whl\n",
            "Collecting cliff\n",
            "\u001b[?25l  Downloading https://files.pythonhosted.org/packages/8a/61/5b64d73b01c1218f55c894b5ec0fb89b32c6960b7f7b3ad9f5ac0c373b9d/cliff-3.5.0-py3-none-any.whl (81kB)\n",
            "\u001b[K     |████████████████████████████████| 81kB 4.9MB/s \n",
            "\u001b[?25hRequirement already satisfied: sqlalchemy>=1.1.0 in /usr/local/lib/python3.6/dist-packages (from optuna) (1.3.22)\n",
            "Collecting alembic\n",
            "\u001b[?25l  Downloading https://files.pythonhosted.org/packages/12/aa/c261dfd7f4ba6ce4701846a2689a46e2a172e012171de4378fc2926e3bf0/alembic-1.4.3-py2.py3-none-any.whl (159kB)\n",
            "\u001b[K     |████████████████████████████████| 163kB 12.9MB/s \n",
            "\u001b[?25hRequirement already satisfied: joblib in /usr/local/lib/python3.6/dist-packages (from optuna) (1.0.0)\n",
            "Requirement already satisfied: packaging>=20.0 in /usr/local/lib/python3.6/dist-packages (from optuna) (20.8)\n",
            "Requirement already satisfied: tqdm in /usr/local/lib/python3.6/dist-packages (from optuna) (4.41.1)\n",
            "Requirement already satisfied: numpy in /usr/local/lib/python3.6/dist-packages (from optuna) (1.19.5)\n",
            "Requirement already satisfied: scipy!=1.4.0 in /usr/local/lib/python3.6/dist-packages (from optuna) (1.4.1)\n",
            "Requirement already satisfied: PyYAML>=3.12 in /usr/local/lib/python3.6/dist-packages (from cliff->optuna) (3.13)\n",
            "Collecting PrettyTable<0.8,>=0.7.2\n",
            "  Downloading https://files.pythonhosted.org/packages/ef/30/4b0746848746ed5941f052479e7c23d2b56d174b82f4fd34a25e389831f5/prettytable-0.7.2.tar.bz2\n",
            "Collecting pbr!=2.1.0,>=2.0.0\n",
            "\u001b[?25l  Downloading https://files.pythonhosted.org/packages/fb/48/69046506f6ac61c1eaa9a0d42d22d54673b69e176d30ca98e3f61513e980/pbr-5.5.1-py2.py3-none-any.whl (106kB)\n",
            "\u001b[K     |████████████████████████████████| 112kB 16.2MB/s \n",
            "\u001b[?25hRequirement already satisfied: pyparsing>=2.1.0 in /usr/local/lib/python3.6/dist-packages (from cliff->optuna) (2.4.7)\n",
            "Collecting stevedore>=2.0.1\n",
            "\u001b[?25l  Downloading https://files.pythonhosted.org/packages/d4/49/b602307aeac3df3384ff1fcd05da9c0376c622a6c48bb5325f28ab165b57/stevedore-3.3.0-py3-none-any.whl (49kB)\n",
            "\u001b[K     |████████████████████████████████| 51kB 2.7MB/s \n",
            "\u001b[?25hRequirement already satisfied: six>=1.10.0 in /usr/local/lib/python3.6/dist-packages (from cliff->optuna) (1.15.0)\n",
            "Collecting cmd2!=0.8.3,>=0.8.0\n",
            "\u001b[?25l  Downloading https://files.pythonhosted.org/packages/27/54/af6e2703f064485d717cb311d3f9440cd302a823ba6d80a020b59eae166d/cmd2-1.4.0-py3-none-any.whl (133kB)\n",
            "\u001b[K     |████████████████████████████████| 133kB 15.5MB/s \n",
            "\u001b[?25hCollecting Mako\n",
            "\u001b[?25l  Downloading https://files.pythonhosted.org/packages/5c/db/2d2d88b924aa4674a080aae83b59ea19d593250bfe5ed789947c21736785/Mako-1.1.4.tar.gz (479kB)\n",
            "\u001b[K     |████████████████████████████████| 481kB 14.0MB/s \n",
            "\u001b[?25hRequirement already satisfied: python-dateutil in /usr/local/lib/python3.6/dist-packages (from alembic->optuna) (2.8.1)\n",
            "Collecting python-editor>=0.3\n",
            "  Downloading https://files.pythonhosted.org/packages/c6/d3/201fc3abe391bbae6606e6f1d598c15d367033332bd54352b12f35513717/python_editor-1.0.4-py3-none-any.whl\n",
            "Requirement already satisfied: importlib-metadata>=1.7.0; python_version < \"3.8\" in /usr/local/lib/python3.6/dist-packages (from stevedore>=2.0.1->cliff->optuna) (3.3.0)\n",
            "Requirement already satisfied: attrs>=16.3.0 in /usr/local/lib/python3.6/dist-packages (from cmd2!=0.8.3,>=0.8.0->cliff->optuna) (20.3.0)\n",
            "Collecting colorama>=0.3.7\n",
            "  Downloading https://files.pythonhosted.org/packages/44/98/5b86278fbbf250d239ae0ecb724f8572af1c91f4a11edf4d36a206189440/colorama-0.4.4-py2.py3-none-any.whl\n",
            "Collecting pyperclip>=1.6\n",
            "  Downloading https://files.pythonhosted.org/packages/6f/4c/0b1d507ad7e8bc31d690d04b4f475e74c2002d060f7994ce8c09612df707/pyperclip-1.8.1.tar.gz\n",
            "Requirement already satisfied: wcwidth>=0.1.7 in /usr/local/lib/python3.6/dist-packages (from cmd2!=0.8.3,>=0.8.0->cliff->optuna) (0.2.5)\n",
            "Requirement already satisfied: MarkupSafe>=0.9.2 in /usr/local/lib/python3.6/dist-packages (from Mako->alembic->optuna) (1.1.1)\n",
            "Requirement already satisfied: zipp>=0.5 in /usr/local/lib/python3.6/dist-packages (from importlib-metadata>=1.7.0; python_version < \"3.8\"->stevedore>=2.0.1->cliff->optuna) (3.4.0)\n",
            "Requirement already satisfied: typing-extensions>=3.6.4; python_version < \"3.8\" in /usr/local/lib/python3.6/dist-packages (from importlib-metadata>=1.7.0; python_version < \"3.8\"->stevedore>=2.0.1->cliff->optuna) (3.7.4.3)\n",
            "Building wheels for collected packages: PrettyTable, Mako, pyperclip\n",
            "  Building wheel for PrettyTable (setup.py) ... \u001b[?25l\u001b[?25hdone\n",
            "  Created wheel for PrettyTable: filename=prettytable-0.7.2-cp36-none-any.whl size=13702 sha256=e48d9dd3756a5acebbece02bc4ac96af40a0e779c87d5f2bdba8d87402dd3647\n",
            "  Stored in directory: /root/.cache/pip/wheels/80/34/1c/3967380d9676d162cb59513bd9dc862d0584e045a162095606\n",
            "  Building wheel for Mako (setup.py) ... \u001b[?25l\u001b[?25hdone\n",
            "  Created wheel for Mako: filename=Mako-1.1.4-py2.py3-none-any.whl size=75675 sha256=c64e79245b776ba0213c3b0343dc30d42abd83a52116116a90a1f7efb17f3819\n",
            "  Stored in directory: /root/.cache/pip/wheels/ad/10/d3/aeb26e20d19045e2a68e5d3cbb57432e11b5d9c92c99f98d47\n",
            "  Building wheel for pyperclip (setup.py) ... \u001b[?25l\u001b[?25hdone\n",
            "  Created wheel for pyperclip: filename=pyperclip-1.8.1-cp36-none-any.whl size=11120 sha256=dccadf3829b8ac8c7194155606fe5ebb7677ec3d025c0cbe4b1fc90f8125ff9d\n",
            "  Stored in directory: /root/.cache/pip/wheels/44/10/3a/c830e9bb3db2c93274ea1f213a41fabde0d8cf3794251fad0c\n",
            "Successfully built PrettyTable Mako pyperclip\n",
            "Installing collected packages: colorlog, cmaes, PrettyTable, pbr, stevedore, colorama, pyperclip, cmd2, cliff, Mako, python-editor, alembic, optuna\n",
            "  Found existing installation: prettytable 2.0.0\n",
            "    Uninstalling prettytable-2.0.0:\n",
            "      Successfully uninstalled prettytable-2.0.0\n",
            "Successfully installed Mako-1.1.4 PrettyTable-0.7.2 alembic-1.4.3 cliff-3.5.0 cmaes-0.7.0 cmd2-1.4.0 colorama-0.4.4 colorlog-4.7.2 optuna-2.4.0 pbr-5.5.1 pyperclip-1.8.1 python-editor-1.0.4 stevedore-3.3.0\n"
          ],
          "name": "stdout"
        }
      ]
    },
    {
      "cell_type": "markdown",
      "metadata": {
        "id": "k4HsmoNeQ_Vt"
      },
      "source": [
        "Evaluate model with k-folding"
      ]
    },
    {
      "cell_type": "code",
      "metadata": {
        "id": "zy1cKC5pj0WJ"
      },
      "source": [
        "# evaluate a model using k-fold cross-validation\n",
        "def evaluate_model(dataX, dataY, n_folds=5, datagen=datagen, num_filters=32):\n",
        "\n",
        "  scores=[]\n",
        "  histories=[]\n",
        "  models=[]\n",
        "\n",
        "  # prepare cross validation\n",
        "  kfold = KFold(n_folds, shuffle=True, random_state=1)\n",
        "  # enumerate splits\n",
        "  for train_ix, test_ix in kfold.split(dataX):\n",
        "    # define model\n",
        "      model = create_model(num_filters)\n",
        "    # select rows for train and test\n",
        "      trainX, trainY, testX, testY = dataX[train_ix], dataY[train_ix], dataX[test_ix], dataY[test_ix]\n",
        "    # fit model\n",
        "      history, model = fit_model(model, datagen, trainX, trainY, testX, testY)\n",
        "    # evaluate model\n",
        "      _, acc = model.evaluate(testX, testY, verbose=0)\n",
        "      print('> %.3f' % (acc * 100.0))\n",
        "\t\t# stores scores\n",
        "      scores.append(acc)\n",
        "      histories.append(history)\n",
        "      models.append(model)\n",
        "  return scores, histories, models\n",
        "  # Here implement k-folding\n",
        "  # The next 2 lines should be replaced by k_folding\n",
        "  # select train_ix as indexes of first 80% of traing events and test_ix as last 20%\n",
        "  \n"
      ],
      "execution_count": null,
      "outputs": []
    },
    {
      "cell_type": "markdown",
      "metadata": {
        "id": "64tyvCZvhT6Y"
      },
      "source": [
        "# **Define objective**"
      ]
    },
    {
      "cell_type": "code",
      "metadata": {
        "id": "sqRBFmBghWlu"
      },
      "source": [
        "# here define the hyperopt or optuna objective\n",
        "#def objective(trial):\n",
        "def objective(trial):    \n",
        "    \n",
        "\n",
        "  rotation_range=trial.suggest_uniform('rotation_range', .00,30)\n",
        "  num_filters=trial.suggest_uniform('num_filters', .00,40)\n",
        "  shift_range=trial.suggest_uniform('shift_range', .00,0.20)\n",
        "    # set up image augmentation  \n",
        "\n",
        "  datagen = ImageDataGenerator( \n",
        "      rotation_range=rotation_range,\n",
        "      horizontal_flip=True,\n",
        "      width_shift_range=shift_range,\n",
        "      height_shift_range=shift_range,\n",
        "      zoom_range=shift_range\n",
        "  )\n",
        "  datagen.fit(x_train)\n",
        "\n",
        "\n",
        "    #create and evaluate model\n",
        "  scores, histories, models = evaluate_model(x_train, y_train, n_folds=5, datagen=datagen, num_filters=num_filters)\n",
        "\n",
        "  return np.mean(scores)"
      ],
      "execution_count": null,
      "outputs": []
    },
    {
      "cell_type": "markdown",
      "metadata": {
        "id": "oUfYb4-2UrkJ"
      },
      "source": [
        "Run the actual optimization"
      ]
    },
    {
      "cell_type": "code",
      "metadata": {
        "colab": {
          "base_uri": "https://localhost:8080/"
        },
        "id": "svy9Up_-lK05",
        "outputId": "5f8400a8-81d2-44d6-c949-19dced28d2c7"
      },
      "source": [
        "# Here you should call the optuna/hyperopt optimization replacing the line below\n",
        "#objective()\n",
        "study = optuna.create_study(direction='maximize', pruner=optuna.pruners.MedianPruner(), sampler=optuna.samplers.TPESampler() )\n",
        "study.optimize(objective, n_trials=15, timeout=6000000000000)\n"
      ],
      "execution_count": null,
      "outputs": [
        {
          "output_type": "stream",
          "text": [
            "\u001b[32m[I 2021-01-18 16:15:00,517]\u001b[0m A new study created in memory with name: no-name-a9e1995a-d611-4abb-9793-2d654c1c0a1d\u001b[0m\n"
          ],
          "name": "stderr"
        },
        {
          "output_type": "stream",
          "text": [
            "> 82.500\n",
            "> 80.000\n",
            "> 73.000\n",
            "> 80.000\n"
          ],
          "name": "stdout"
        },
        {
          "output_type": "stream",
          "text": [
            "\u001b[32m[I 2021-01-18 16:22:58,067]\u001b[0m Trial 0 finished with value: 0.8020000100135803 and parameters: {'rotation_range': 28.21887047413774, 'num_filters': 26.524815493154374, 'shift_range': 0.05892312248543226}. Best is trial 0 with value: 0.8020000100135803.\u001b[0m\n"
          ],
          "name": "stderr"
        },
        {
          "output_type": "stream",
          "text": [
            "> 85.500\n",
            "> 80.500\n",
            "> 70.500\n",
            "> 74.500\n",
            "> 81.500\n"
          ],
          "name": "stdout"
        },
        {
          "output_type": "stream",
          "text": [
            "\u001b[32m[I 2021-01-18 16:31:02,226]\u001b[0m Trial 1 finished with value: 0.7909999966621399 and parameters: {'rotation_range': 26.953326637068376, 'num_filters': 10.36299728956234, 'shift_range': 0.17309210771423822}. Best is trial 0 with value: 0.8020000100135803.\u001b[0m\n"
          ],
          "name": "stderr"
        },
        {
          "output_type": "stream",
          "text": [
            "> 88.500\n",
            "> 83.500\n",
            "> 79.500\n",
            "> 71.500\n",
            "> 80.000\n"
          ],
          "name": "stdout"
        },
        {
          "output_type": "stream",
          "text": [
            "\u001b[32m[I 2021-01-18 16:38:58,657]\u001b[0m Trial 2 finished with value: 0.7959999918937684 and parameters: {'rotation_range': 28.129941291201423, 'num_filters': 9.25344062853358, 'shift_range': 0.19230030011610197}. Best is trial 0 with value: 0.8020000100135803.\u001b[0m\n"
          ],
          "name": "stderr"
        },
        {
          "output_type": "stream",
          "text": [
            "> 83.500\n",
            "> 86.000\n",
            "> 82.500\n",
            "> 74.000\n",
            "> 71.500\n"
          ],
          "name": "stdout"
        },
        {
          "output_type": "stream",
          "text": [
            "\u001b[32m[I 2021-01-18 16:46:41,361]\u001b[0m Trial 3 finished with value: 0.8019999980926513 and parameters: {'rotation_range': 17.768169950867325, 'num_filters': 21.285291414348876, 'shift_range': 0.14631220772097778}. Best is trial 0 with value: 0.8020000100135803.\u001b[0m\n"
          ],
          "name": "stderr"
        },
        {
          "output_type": "stream",
          "text": [
            "> 87.000\n",
            "> 87.500\n",
            "> 77.000\n",
            "> 80.500\n",
            "> 77.000\n"
          ],
          "name": "stdout"
        },
        {
          "output_type": "stream",
          "text": [
            "\u001b[32m[I 2021-01-18 16:54:32,741]\u001b[0m Trial 4 finished with value: 0.8179999947547912 and parameters: {'rotation_range': 2.7968128505982524, 'num_filters': 8.219291466654148, 'shift_range': 0.08824625155101432}. Best is trial 4 with value: 0.8179999947547912.\u001b[0m\n"
          ],
          "name": "stderr"
        },
        {
          "output_type": "stream",
          "text": [
            "> 87.000\n",
            "> 87.500\n",
            "> 82.500\n",
            "> 79.000\n",
            "> 82.000\n"
          ],
          "name": "stdout"
        },
        {
          "output_type": "stream",
          "text": [
            "\u001b[32m[I 2021-01-18 17:02:24,603]\u001b[0m Trial 5 finished with value: 0.8429999947547913 and parameters: {'rotation_range': 8.759094597021514, 'num_filters': 32.45715402536151, 'shift_range': 0.19776992866072196}. Best is trial 5 with value: 0.8429999947547913.\u001b[0m\n"
          ],
          "name": "stderr"
        },
        {
          "output_type": "stream",
          "text": [
            "> 90.500\n",
            "> 77.000\n",
            "> 82.500\n",
            "> 79.000\n",
            "> 81.500\n"
          ],
          "name": "stdout"
        },
        {
          "output_type": "stream",
          "text": [
            "\u001b[32m[I 2021-01-18 17:10:14,836]\u001b[0m Trial 6 finished with value: 0.8090000033378602 and parameters: {'rotation_range': 12.403539340410303, 'num_filters': 2.4464362452122, 'shift_range': 0.18512489044506045}. Best is trial 5 with value: 0.8429999947547913.\u001b[0m\n"
          ],
          "name": "stderr"
        },
        {
          "output_type": "stream",
          "text": [
            "> 84.500\n",
            "> 82.500\n",
            "> 81.500\n",
            "> 81.500\n",
            "> 83.000\n"
          ],
          "name": "stdout"
        },
        {
          "output_type": "stream",
          "text": [
            "\u001b[32m[I 2021-01-18 17:18:28,493]\u001b[0m Trial 7 finished with value: 0.8169999957084656 and parameters: {'rotation_range': 15.317098122348165, 'num_filters': 14.786995470092199, 'shift_range': 0.16733019690519546}. Best is trial 5 with value: 0.8429999947547913.\u001b[0m\n"
          ],
          "name": "stderr"
        },
        {
          "output_type": "stream",
          "text": [
            "> 80.000\n",
            "> 86.000\n",
            "> 82.500\n",
            "> 80.000\n",
            "> 77.500\n"
          ],
          "name": "stdout"
        },
        {
          "output_type": "stream",
          "text": [
            "\u001b[32m[I 2021-01-18 17:26:38,835]\u001b[0m Trial 8 finished with value: 0.8220000028610229 and parameters: {'rotation_range': 9.26070415857618, 'num_filters': 2.744553836665764, 'shift_range': 0.05439247073242448}. Best is trial 5 with value: 0.8429999947547913.\u001b[0m\n"
          ],
          "name": "stderr"
        },
        {
          "output_type": "stream",
          "text": [
            "> 85.000\n",
            "> 86.500\n",
            "> 79.000\n",
            "> 78.000\n",
            "> 78.500\n"
          ],
          "name": "stdout"
        }
      ]
    },
    {
      "cell_type": "markdown",
      "metadata": {
        "id": "YHV4Q9DsU15I"
      },
      "source": [
        "Print the results"
      ]
    },
    {
      "cell_type": "code",
      "metadata": {
        "id": "EKFgcRc2BIXz"
      },
      "source": [
        "#print(\"Number of finished trials: {}\".format(len(study.trials)))\n",
        "\n",
        "print(\"Best trial:\")\n",
        "trial = study.best_trial\n",
        "\n",
        "print(\"  Value: {}\".format(trial.value))\n",
        "\n",
        "print(\"  Params: \")\n",
        "for key, value in trial.params.items():\n",
        "        print(\"    {}: {}\".format(key, value))\n"
      ],
      "execution_count": null,
      "outputs": []
    },
    {
      "cell_type": "markdown",
      "metadata": {
        "id": "HKZrlw5WXupN"
      },
      "source": [
        "# **Train with optimized parameters**"
      ]
    },
    {
      "cell_type": "code",
      "metadata": {
        "id": "5pC1aW2dZiNB"
      },
      "source": [
        "\n",
        "\n",
        "rotation_range=trial.params.get('rotation_range')\n",
        "num_filters=trial.params.get('num_filters')\n",
        "shift_range=trial.params.get('shift_range')\n",
        "# here you should get parameters from optimization (the lines below should be updated)\n",
        "#num_filters = 32\n",
        "#rotation_range = 5\n",
        "#shift_range = 0.1\n",
        "\n",
        "\n",
        "# set up image augmentation\n",
        "datagen = ImageDataGenerator( \n",
        "      rotation_range=rotation_range,\n",
        "      horizontal_flip=True,\n",
        "      width_shift_range=shift_range,\n",
        "      height_shift_range=shift_range,\n",
        "      zoom_range=shift_range\n",
        ")\n",
        "datagen.fit(x_train)\n",
        "\n",
        "\n",
        "#create and evaluate model\n",
        "scores, histories, models = evaluate_model(x_train, y_train, n_folds=5, datagen=datagen)"
      ],
      "execution_count": null,
      "outputs": []
    },
    {
      "cell_type": "markdown",
      "metadata": {
        "id": "mwuJ4taWNmXb"
      },
      "source": [
        "# **Make plots**"
      ]
    },
    {
      "cell_type": "code",
      "metadata": {
        "id": "XS6OcC2NP0ns"
      },
      "source": [
        " \n",
        "# plot diagnostic learning curves\n",
        "def summarize_diagnostics(histories):\n",
        "  plt.figure(figsize=(10,10))\n",
        "  for i in range(len(histories)):\n",
        "\t\t# plot loss\n",
        "    plt.subplot(2, 1, 1)\n",
        "    plt.title('Loss')\n",
        "    plt.plot(histories[i].history['loss'], color='blue', label='train')\n",
        "    plt.plot(histories[i].history['val_loss'], color='orange', label='test')\n",
        "    #plt.ylim(0,0.1)\n",
        "    plt.legend(['loss','val_loss'])\n",
        "    # plot accuracy\n",
        "    plt.subplot(2, 1, 2)\n",
        "    plt.title('Classification Accuracy')\n",
        "    plt.plot(histories[i].history['accuracy'], color='blue', label='train')\n",
        "    plt.plot(histories[i].history['val_accuracy'], color='orange', label='test')\n",
        "    #plt.ylim(0.9,1)\n",
        "    plt.legend(['accuracy','val_accuracy'])\n",
        "  plt.show()\n",
        " \n",
        "# summarize model performance\n",
        "def summarize_performance(scores):\n",
        "\t# print summary\n",
        "  print('Accuracy: mean=%.3f std=%.3f, n=%d' % (np.mean(scores)*100, np.std(scores)*100, len(scores)))\n",
        "\t# box and whisker plots of results\n",
        "  plt.figure(figsize=(10,10))\n",
        "  plt.boxplot(scores)\n",
        "  plt.show()"
      ],
      "execution_count": null,
      "outputs": []
    },
    {
      "cell_type": "markdown",
      "metadata": {
        "id": "qroFE6mfQF0B"
      },
      "source": [
        "# **Summarize**"
      ]
    },
    {
      "cell_type": "code",
      "metadata": {
        "id": "_5xq15-IQJL6"
      },
      "source": [
        "# learning curves\n",
        "summarize_diagnostics(histories)\n",
        "# summarize estimated performance\n",
        "summarize_performance(scores)\n",
        " \n",
        "print(\"Scores: \",scores)"
      ],
      "execution_count": null,
      "outputs": []
    },
    {
      "cell_type": "markdown",
      "metadata": {
        "id": "f7VizuVYXUwu"
      },
      "source": [
        "# **Ensamble of networks - build one classifier as an average of n models from variable models**"
      ]
    },
    {
      "cell_type": "code",
      "metadata": {
        "id": "t5dvfNQXXZwX"
      },
      "source": [
        "# make predictions\n",
        "yhats = [model.predict(x_test) for model in models]\n",
        "yhats = np.array(yhats)\n",
        "print(yhats)\n",
        "# sum across ensembles\n",
        "summed = np.sum(yhats, axis=0)/len(models)\n",
        "print(summed)\n",
        "# argmax across classes\n",
        "outcomes = np.argmax(summed, axis=1)\n",
        "print(outcomes.shape)\n",
        "print(outcomes)\n",
        "# true outcomes\n",
        "outcomes_true = np.argmax(y_test,axis = 1)\n",
        "print(outcomes_true.shape)\n",
        "print(outcomes_true)\n",
        "\n",
        "score = (len(outcomes) - np.count_nonzero(outcomes-outcomes_true))/len(outcomes)\n",
        "\n",
        "print(\"Ensamble test accuracy: \",score*100.,\"%\")\n"
      ],
      "execution_count": null,
      "outputs": []
    },
    {
      "cell_type": "code",
      "metadata": {
        "id": "lLxgrB0NDz_3"
      },
      "source": [
        "# Confusion matrix result\n",
        "\n",
        "from sklearn.metrics import classification_report, confusion_matrix\n",
        "\n",
        "\n",
        "#confusion matrix\n",
        "cm = confusion_matrix(outcomes_true,outcomes)\n",
        "print(cm)\n",
        "\n"
      ],
      "execution_count": null,
      "outputs": []
    },
    {
      "cell_type": "markdown",
      "metadata": {
        "id": "Uf5HQtggY2Vz"
      },
      "source": [
        "\n",
        "\n",
        "# **Plot images for the ensamble of models**"
      ]
    },
    {
      "cell_type": "code",
      "metadata": {
        "id": "ymfi-YVOY2Wf"
      },
      "source": [
        "def plot_images2(y_pred, y_pred_prob):\n",
        "# Names of predicted classes (randomly chosen images)\n",
        "\n",
        "  import random\n",
        "\n",
        "\n",
        "  class_names = [\"airplane\", \"automobile\", \"bird\", \"cat\", \"deer\", \"dog\", \"frog\", \"horse\", \"ship\", \"truck\"]\n",
        "\n",
        "  #y_pred = model2.predict_classes(x_test)\n",
        "  #y_pred_prob = model2.predict(x_test)\n",
        "\n",
        "  grid_w = 10\n",
        "  grid_h = 10\n",
        "\n",
        "  fig = plt.figure(figsize=(20, 40))\n",
        "  for i in range(0,grid_w*grid_h):\n",
        "    i_pos = 2*(int(i/grid_w))*grid_w+ i%grid_w + 1\n",
        "    #print(i_pos)\n",
        "    plt.subplot(2*grid_h, grid_w, i_pos)\n",
        "    i_img = random.randint(0,len(xx_test))\n",
        "    plt.imshow(xx_test[i_img])\n",
        "    #plt.bar([0,1,2,3,4,5,6,7,8,9],y_test[i_img])\n",
        "    plt.axis('off')\n",
        "    if yy_test[i_img] == y_pred[i_img]:\n",
        "      plt.text(0, -2, class_names[int(yy_test[i_img])], color='green', fontsize=12)\n",
        "    else:\n",
        "      plt.text(0, -2, class_names[int(yy_test[i_img])]+\" \"+class_names[y_pred[i_img]], color='red', fontsize=12)  \n",
        "    plt.subplot(2*grid_h, grid_w, i_pos + grid_w)\n",
        "    xbar = np.linspace(1, N_CLASSES, num=N_CLASSES)\n",
        "    plt.bar(xbar,y_pred_prob[i_img])\n",
        "    plt.axis('off')\n",
        "\n",
        "  plt.show()\n"
      ],
      "execution_count": null,
      "outputs": []
    },
    {
      "cell_type": "code",
      "metadata": {
        "id": "cO8F9EWZY2Wh"
      },
      "source": [
        "plot_images2(outcomes,summed)"
      ],
      "execution_count": null,
      "outputs": []
    },
    {
      "cell_type": "markdown",
      "metadata": {
        "id": "jRePUL7XWQtC"
      },
      "source": [
        "## Visualizing the Optimization History"
      ]
    },
    {
      "cell_type": "code",
      "metadata": {
        "id": "2K0KNXBIWQtC"
      },
      "source": [
        "from optuna.visualization import plot_optimization_history\n",
        "\n",
        "plot_optimization_history(study)"
      ],
      "execution_count": null,
      "outputs": []
    },
    {
      "cell_type": "markdown",
      "metadata": {
        "id": "OeL4FGcZWQtE"
      },
      "source": [
        "## Visualizing High-dimensional Parameter Relationships"
      ]
    },
    {
      "cell_type": "code",
      "metadata": {
        "id": "aq42Sf07WQtF"
      },
      "source": [
        "from optuna.visualization import plot_parallel_coordinate\n",
        "\n",
        "plot_parallel_coordinate(study)"
      ],
      "execution_count": null,
      "outputs": []
    },
    {
      "cell_type": "markdown",
      "metadata": {
        "id": "P0dTS1crWQtF"
      },
      "source": [
        "## Visualizing Parameter Relationships"
      ]
    },
    {
      "cell_type": "code",
      "metadata": {
        "id": "q2cxMKtkWQtF"
      },
      "source": [
        "from optuna.visualization import plot_contour\n",
        "\n",
        "plot_contour(study)"
      ],
      "execution_count": null,
      "outputs": []
    },
    {
      "cell_type": "markdown",
      "metadata": {
        "id": "LgJwzjCaWQtF"
      },
      "source": [
        "## Visualizing Individual Parameters"
      ]
    },
    {
      "cell_type": "code",
      "metadata": {
        "id": "YgV8JzH7WQtF"
      },
      "source": [
        "from optuna.visualization import plot_slice\n",
        "\n",
        "plot_slice(study)"
      ],
      "execution_count": null,
      "outputs": []
    },
    {
      "cell_type": "markdown",
      "metadata": {
        "id": "pRuVvWaoWQtF"
      },
      "source": [
        "## Visualizing Parameter Importances"
      ]
    },
    {
      "cell_type": "code",
      "metadata": {
        "id": "akCMURHCWQtF"
      },
      "source": [
        "from optuna.visualization import plot_param_importances\n",
        "\n",
        "plot_param_importances(study)"
      ],
      "execution_count": null,
      "outputs": []
    }
  ]
}