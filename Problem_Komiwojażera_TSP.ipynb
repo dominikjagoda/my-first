{
  "nbformat": 4,
  "nbformat_minor": 0,
  "metadata": {
    "colab": {
      "name": "Untitled1.ipynb",
      "provenance": [],
      "authorship_tag": "ABX9TyNmGws/F5WZF/hk1E4JB1QF",
      "include_colab_link": true
    },
    "kernelspec": {
      "name": "python3",
      "display_name": "Python 3"
    }
  },
  "cells": [
    {
      "cell_type": "markdown",
      "metadata": {
        "id": "view-in-github",
        "colab_type": "text"
      },
      "source": [
        "<a href=\"https://colab.research.google.com/github/dominikjagoda/my-first/blob/main/Problem_Komiwoja%C5%BCera_TSP.ipynb\" target=\"_parent\"><img src=\"https://colab.research.google.com/assets/colab-badge.svg\" alt=\"Open In Colab\"/></a>"
      ]
    },
    {
      "cell_type": "code",
      "metadata": {
        "colab": {
          "base_uri": "https://localhost:8080/"
        },
        "id": "3WFrdq5DUU_r",
        "outputId": "6f6a83a6-74d0-4728-a3cb-009609fcaac2"
      },
      "source": [
        "!pip install tsp"
      ],
      "execution_count": 16,
      "outputs": [
        {
          "output_type": "stream",
          "text": [
            "Requirement already satisfied: tsp in /usr/local/lib/python3.6/dist-packages (0.0.6)\n",
            "Requirement already satisfied: more-itertools in /usr/local/lib/python3.6/dist-packages (from tsp) (8.6.0)\n",
            "Requirement already satisfied: pulp in /usr/local/lib/python3.6/dist-packages (from tsp) (2.4)\n",
            "Requirement already satisfied: amply>=0.1.2 in /usr/local/lib/python3.6/dist-packages (from pulp->tsp) (0.1.4)\n",
            "Requirement already satisfied: pyparsing in /usr/local/lib/python3.6/dist-packages (from amply>=0.1.2->pulp->tsp) (2.4.7)\n",
            "Requirement already satisfied: docutils>=0.3 in /usr/local/lib/python3.6/dist-packages (from amply>=0.1.2->pulp->tsp) (0.16)\n"
          ],
          "name": "stdout"
        }
      ]
    },
    {
      "cell_type": "code",
      "metadata": {
        "id": "KCA5aCo8UW7V"
      },
      "source": [
        "import tsp\r\n",
        "import numpy as np\r\n",
        "import matplotlib.pyplot as plt\r\n",
        "import time\r\n",
        "import math as m\r\n"
      ],
      "execution_count": 17,
      "outputs": []
    },
    {
      "cell_type": "code",
      "metadata": {
        "id": "XrDQhyw6UbG0"
      },
      "source": [
        "#Data\r\n",
        "#https://dateandtime.info/pl/citycoordinates.php?id=3094802\r\n",
        "#https://www.wspolrzedne-gps.pl"
      ],
      "execution_count": 18,
      "outputs": []
    },
    {
      "cell_type": "code",
      "metadata": {
        "id": "vNiJ2aI-UdVr"
      },
      "source": [
        "all_cit=np.array([\r\n",
        "             [50.8703300,20.6275200],#Kielce\r\n",
        "             [50.6826500,21.7489800],#Sandomierz\r\n",
        "    [50.8520727,19.9667772],#Włoszczowa\r\n",
        "    [50.6394435,20.3046116],#Jędrzejów\r\n",
        "    [50.5201929,20.5256241],#Pinczów\r\n",
        "    [50.46759,20.71919],#Busko-Zdrój\r\n",
        "    [50.267489,20.4853308],#Kazimierza Wileka\r\n",
        "    [50.5612276,21.1677849],#Staszów\r\n",
        "    [50.8017661,21.4238281],#Opatów\r\n",
        "    [50.9398768,21.38743],#Ostrowiec Świętokrzyski\r\n",
        "    [51.0518865,21.0761377],#Starachowice\r\n",
        "    [51.1138821,20.857883],#Skarżysko Kamienna\r\n",
        "    [51.1910223,20.4071836],#Końskie\r\n",
        "    [50.0614300,19.9365800],#Kraków\r\n",
        "    [50.3566016,20.0276912],#Miechów\r\n",
        "    [50.2788158,19.5596307],#Olkusz\r\n",
        "    [50.1411926,19.4028502],#Chrzanów\r\n",
        "    [50.0382443,19.2214053],#Oświęcim\r\n",
        "    [49.8834484,19.4925345],#Wadowica\r\n",
        "    [49.834608,19.9384283],#Myślenice\r\n",
        "    [49.74079,19.5905975],#Sucha Beskidzka\r\n",
        "    [49.4818229,20.030541],#Nowy targ\r\n",
        "    [49.2969446,19.950659],#Zakopane\r\n",
        "    [49.7061713,20.4217266],#Limanowa\r\n",
        "    [49.6249173,20.691346],#Nowy Sacz\r\n",
        "    [49.65829,21.1593832],#Gorlice\r\n",
        "    [50.0123784,20.9880739],#Tarnow\r\n",
        "    [49.9678396,20.6068496],#Brzesko\r\n",
        "    [49.9693563,20.430541],#Bochnia\r\n",
        "    [50.1743495,20.9850707],#Dąbrowa tarnowska\r\n",
        "    [49.9823773,20.0602114],#Wieliczka\r\n",
        "    [50.5653105,22.0644075],#Stalowa Wola\r\n",
        "    [50.5715277,21.6704871],#Tarnobrzeg\r\n",
        "    [50.5198985,22.139886],#Nisko\r\n",
        "    [50.2892506,21.4243685],#Mielec\r\n",
        "    [50.2433277,21.7754563],#Kolbuszowa\r\n",
        "    [50.2621687,22.418892],#Leżajsk\r\n",
        "    [50.1574473,23.1225859],#Lubaczów\r\n",
        "    [50.0104958,22.678605],#Jarosław\r\n",
        "    [50.0601735,22.4923769],#Przeworsk\r\n",
        "    [50.0690725,22.2320924],#Łańcut\r\n",
        "    [50.0528608,21.6116324],#Ropczyce\r\n",
        "    [50.0514601,21.4104804],#Dębica\r\n",
        "    [49.7470465,21.4743139],#Jasło\r\n",
        "    [49.870208,21.7856291],#Strzyżów\r\n",
        "    [49.6938045,21.7651458],#Krosno\r\n",
        "    [49.6950395,22.0196537],#Brzozów\r\n",
        "    [49.5609053,22.207028],#Sanok\r\n",
        "    [49.7821562,22.7692634],#Przemyśl\r\n",
        "    [49.4689014,22.3303816],#Lesko\r\n",
        "    [49.4301874,22.5877003],#Ustrzyki Dolne\r\n",
        "    [50.0413200,21.9990100]#Rzeszów\r\n",
        "            \r\n",
        "])\r\n",
        "\r\n",
        "n=len(all_cit)"
      ],
      "execution_count": 19,
      "outputs": []
    },
    {
      "cell_type": "code",
      "metadata": {
        "colab": {
          "base_uri": "https://localhost:8080/"
        },
        "id": "1X6SJ64-Ul2P",
        "outputId": "27a2f504-6614-4282-e62d-2b8e8576fce6"
      },
      "source": [
        "n"
      ],
      "execution_count": 20,
      "outputs": [
        {
          "output_type": "execute_result",
          "data": {
            "text/plain": [
              "52"
            ]
          },
          "metadata": {
            "tags": []
          },
          "execution_count": 20
        }
      ]
    },
    {
      "cell_type": "code",
      "metadata": {
        "id": "Ve6X7niJUmO7"
      },
      "source": [
        "def dist(i,j):\r\n",
        "    R=6400\r\n",
        "    if i == j:\r\n",
        "        return 0\r\n",
        "    else:\r\n",
        "        return R*np.arccos((m.sin(all_cit[i,1]/180)*m.sin(all_cit[j,1]/180) +\r\n",
        "               m.cos(all_cit[i,1]/180)*m.cos(all_cit[j,1]/180)*m.cos((all_cit[i,0]/180)-(all_cit[j,0]/180))))"
      ],
      "execution_count": 21,
      "outputs": []
    },
    {
      "cell_type": "code",
      "metadata": {
        "colab": {
          "base_uri": "https://localhost:8080/"
        },
        "id": "fCmQjcJRUtmF",
        "outputId": "0b7381d3-4ef7-4d7f-8597-ed8175f6ed94"
      },
      "source": [
        "dist(1,2)"
      ],
      "execution_count": 22,
      "outputs": [
        {
          "output_type": "execute_result",
          "data": {
            "text/plain": [
              "63.64908168420394"
            ]
          },
          "metadata": {
            "tags": []
          },
          "execution_count": 22
        }
      ]
    },
    {
      "cell_type": "code",
      "metadata": {
        "colab": {
          "base_uri": "https://localhost:8080/"
        },
        "id": "FSzX82cQUvxj",
        "outputId": "638c09ca-4d3e-4d3d-e7be-8cdb7b1d4c9f"
      },
      "source": [
        "dt=[[dist(i,j) for i in range(n)] for j in range(n)]\r\n",
        "np.round(np.array(dt),2)"
      ],
      "execution_count": 23,
      "outputs": [
        {
          "output_type": "execute_result",
          "data": {
            "text/plain": [
              "array([[  0.  ,  40.42,  23.5 , ...,  78.19,  86.27,  56.87],\n",
              "       [ 40.42,   0.  ,  63.65, ...,  47.56,  53.31,  24.32],\n",
              "       [ 23.5 ,  63.65,   0.  , ...,  97.2 , 105.85,  77.72],\n",
              "       ...,\n",
              "       [ 78.19,  47.56,  97.2 , ...,   0.  ,   9.25,  23.38],\n",
              "       [ 86.27,  53.31, 105.85, ...,   9.25,   0.  ,  30.05],\n",
              "       [ 56.87,  24.32,  77.72, ...,  23.38,  30.05,   0.  ]])"
            ]
          },
          "metadata": {
            "tags": []
          },
          "execution_count": 23
        }
      ]
    },
    {
      "cell_type": "code",
      "metadata": {
        "id": "1P0B5p6QU1IW"
      },
      "source": [
        "# konwersja tablicy odległości do słownika (potrzebne dalej dla wołania f. bibliotecznej)\r\n",
        "dis = {(i, j): dt[i][j] for i in range(n) for j in range(n)}"
      ],
      "execution_count": 24,
      "outputs": []
    },
    {
      "cell_type": "code",
      "metadata": {
        "colab": {
          "base_uri": "https://localhost:8080/"
        },
        "id": "9bGILvFzU85p",
        "outputId": "4bf5ec59-6ff6-4c43-fcd0-261bd51482ec"
      },
      "source": [
        "time0 = time.time()    # czas start\r\n",
        "t_tsp = tsp.tsp(range(n),dis) # znajdź DOKŁADNE rozwiązanie\r\n",
        "time1 = time.time()    # czas stop\r\n",
        "\r\n",
        "print(t_tsp)\r\n",
        "print(\"czas wykonania:\",round(time1 - time0,1),\"s\")"
      ],
      "execution_count": 25,
      "outputs": [
        {
          "output_type": "stream",
          "text": [
            "(548.8637144475491, [0, 11, 10, 9, 8, 7, 34, 42, 41, 35, 32, 1, 31, 33, 51, 40, 36, 39, 38, 37, 48, 50, 49, 47, 46, 44, 45, 43, 25, 26, 29, 5, 4, 6, 28, 27, 24, 23, 30, 13, 19, 21, 22, 20, 18, 17, 16, 15, 14, 3, 2, 12])\n",
            "czas wykonania: 784.7 s\n"
          ],
          "name": "stdout"
        }
      ]
    },
    {
      "cell_type": "code",
      "metadata": {
        "colab": {
          "base_uri": "https://localhost:8080/"
        },
        "id": "LDxUtLL4VB04",
        "outputId": "67c0294c-6afc-4e25-be1d-d79488c05246"
      },
      "source": [
        "p_tsp=np.array(t_tsp[1]) # najkrótsza trasa\r\n",
        "t_tsp[0] # długość najkrótszej trasy"
      ],
      "execution_count": 26,
      "outputs": [
        {
          "output_type": "execute_result",
          "data": {
            "text/plain": [
              "548.8637144475491"
            ]
          },
          "metadata": {
            "tags": []
          },
          "execution_count": 26
        }
      ]
    },
    {
      "cell_type": "code",
      "metadata": {
        "colab": {
          "base_uri": "https://localhost:8080/"
        },
        "id": "apZflf24VFVp",
        "outputId": "19706c1e-5f51-4bc5-c8b5-8a0a109e3e78"
      },
      "source": [
        "t=t_tsp[1]\r\n",
        "index=0\r\n",
        "route=np.insert(np.append(t,0),0,0)\r\n",
        "route=np.delete(route,index)\r\n",
        "tour=np.array([all_cit[i] for i in route])\r\n",
        "tour"
      ],
      "execution_count": 27,
      "outputs": [
        {
          "output_type": "execute_result",
          "data": {
            "text/plain": [
              "array([[50.87033  , 20.62752  ],\n",
              "       [51.1138821, 20.857883 ],\n",
              "       [51.0518865, 21.0761377],\n",
              "       [50.9398768, 21.38743  ],\n",
              "       [50.8017661, 21.4238281],\n",
              "       [50.5612276, 21.1677849],\n",
              "       [50.2892506, 21.4243685],\n",
              "       [50.0514601, 21.4104804],\n",
              "       [50.0528608, 21.6116324],\n",
              "       [50.2433277, 21.7754563],\n",
              "       [50.5715277, 21.6704871],\n",
              "       [50.68265  , 21.74898  ],\n",
              "       [50.5653105, 22.0644075],\n",
              "       [50.5198985, 22.139886 ],\n",
              "       [50.04132  , 21.99901  ],\n",
              "       [50.0690725, 22.2320924],\n",
              "       [50.2621687, 22.418892 ],\n",
              "       [50.0601735, 22.4923769],\n",
              "       [50.0104958, 22.678605 ],\n",
              "       [50.1574473, 23.1225859],\n",
              "       [49.7821562, 22.7692634],\n",
              "       [49.4301874, 22.5877003],\n",
              "       [49.4689014, 22.3303816],\n",
              "       [49.5609053, 22.207028 ],\n",
              "       [49.6950395, 22.0196537],\n",
              "       [49.870208 , 21.7856291],\n",
              "       [49.6938045, 21.7651458],\n",
              "       [49.7470465, 21.4743139],\n",
              "       [49.65829  , 21.1593832],\n",
              "       [50.0123784, 20.9880739],\n",
              "       [50.1743495, 20.9850707],\n",
              "       [50.46759  , 20.71919  ],\n",
              "       [50.5201929, 20.5256241],\n",
              "       [50.267489 , 20.4853308],\n",
              "       [49.9693563, 20.430541 ],\n",
              "       [49.9678396, 20.6068496],\n",
              "       [49.6249173, 20.691346 ],\n",
              "       [49.7061713, 20.4217266],\n",
              "       [49.9823773, 20.0602114],\n",
              "       [50.06143  , 19.93658  ],\n",
              "       [49.834608 , 19.9384283],\n",
              "       [49.4818229, 20.030541 ],\n",
              "       [49.2969446, 19.950659 ],\n",
              "       [49.74079  , 19.5905975],\n",
              "       [49.8834484, 19.4925345],\n",
              "       [50.0382443, 19.2214053],\n",
              "       [50.1411926, 19.4028502],\n",
              "       [50.2788158, 19.5596307],\n",
              "       [50.3566016, 20.0276912],\n",
              "       [50.6394435, 20.3046116],\n",
              "       [50.8520727, 19.9667772],\n",
              "       [51.1910223, 20.4071836],\n",
              "       [50.87033  , 20.62752  ]])"
            ]
          },
          "metadata": {
            "tags": []
          },
          "execution_count": 27
        }
      ]
    },
    {
      "cell_type": "code",
      "metadata": {
        "colab": {
          "base_uri": "https://localhost:8080/"
        },
        "id": "FzWIlm8CVW3w",
        "outputId": "7fb38e30-de09-441d-e527-50f0053da4a7"
      },
      "source": [
        "lenpa=np.round(t_tsp[0],3) # długość najkrótszej trasy\r\n",
        "lenpa"
      ],
      "execution_count": 28,
      "outputs": [
        {
          "output_type": "execute_result",
          "data": {
            "text/plain": [
              "548.864"
            ]
          },
          "metadata": {
            "tags": []
          },
          "execution_count": 28
        }
      ]
    },
    {
      "cell_type": "code",
      "metadata": {
        "colab": {
          "base_uri": "https://localhost:8080/"
        },
        "id": "RBAB6qrSVbGx",
        "outputId": "b1781ba3-67b9-4aae-9f90-7206529e9afa"
      },
      "source": [
        "!pip install folium"
      ],
      "execution_count": 29,
      "outputs": [
        {
          "output_type": "stream",
          "text": [
            "Requirement already satisfied: folium in /usr/local/lib/python3.6/dist-packages (0.8.3)\n",
            "Requirement already satisfied: jinja2 in /usr/local/lib/python3.6/dist-packages (from folium) (2.11.2)\n",
            "Requirement already satisfied: branca>=0.3.0 in /usr/local/lib/python3.6/dist-packages (from folium) (0.4.2)\n",
            "Requirement already satisfied: numpy in /usr/local/lib/python3.6/dist-packages (from folium) (1.19.5)\n",
            "Requirement already satisfied: six in /usr/local/lib/python3.6/dist-packages (from folium) (1.15.0)\n",
            "Requirement already satisfied: requests in /usr/local/lib/python3.6/dist-packages (from folium) (2.23.0)\n",
            "Requirement already satisfied: MarkupSafe>=0.23 in /usr/local/lib/python3.6/dist-packages (from jinja2->folium) (1.1.1)\n",
            "Requirement already satisfied: urllib3!=1.25.0,!=1.25.1,<1.26,>=1.21.1 in /usr/local/lib/python3.6/dist-packages (from requests->folium) (1.24.3)\n",
            "Requirement already satisfied: chardet<4,>=3.0.2 in /usr/local/lib/python3.6/dist-packages (from requests->folium) (3.0.4)\n",
            "Requirement already satisfied: idna<3,>=2.5 in /usr/local/lib/python3.6/dist-packages (from requests->folium) (2.10)\n",
            "Requirement already satisfied: certifi>=2017.4.17 in /usr/local/lib/python3.6/dist-packages (from requests->folium) (2020.12.5)\n"
          ],
          "name": "stdout"
        }
      ]
    },
    {
      "cell_type": "code",
      "metadata": {
        "id": "Srg34swcVbtx"
      },
      "source": [
        "import folium"
      ],
      "execution_count": 30,
      "outputs": []
    },
    {
      "cell_type": "code",
      "metadata": {
        "colab": {
          "base_uri": "https://localhost:8080/",
          "height": 771
        },
        "id": "raFD8BgAVdgT",
        "outputId": "c2e836ca-315e-452d-b978-052c33fe54c5"
      },
      "source": [
        "my_map = folium.Map([50.0614300,19.9365800])\r\n",
        "for i in tour:\r\n",
        "    folium.Marker(i).add_to(my_map)\r\n",
        "my_map"
      ],
      "execution_count": 31,
      "outputs": [
        {
          "output_type": "execute_result",
          "data": {
            "text/html": [
              "<div style=\"width:100%;\"><div style=\"position:relative;width:100%;height:0;padding-bottom:60%;\"><span style=\"color:#565656\">Make this Notebook Trusted to load map: File -> Trust Notebook</span><iframe src=\"about:blank\" style=\"position:absolute;width:100%;height:100%;left:0;top:0;border:none !important;\" data-html=%3C%21DOCTYPE%20html%3E%0A%3Chead%3E%20%20%20%20%0A%20%20%20%20%3Cmeta%20http-equiv%3D%22content-type%22%20content%3D%22text/html%3B%20charset%3DUTF-8%22%20/%3E%0A%20%20%20%20%3Cscript%3EL_PREFER_CANVAS%3Dfalse%3B%20L_NO_TOUCH%3Dfalse%3B%20L_DISABLE_3D%3Dfalse%3B%3C/script%3E%0A%20%20%20%20%3Cscript%20src%3D%22https%3A//cdn.jsdelivr.net/npm/leaflet%401.4.0/dist/leaflet.js%22%3E%3C/script%3E%0A%20%20%20%20%3Cscript%20src%3D%22https%3A//code.jquery.com/jquery-1.12.4.min.js%22%3E%3C/script%3E%0A%20%20%20%20%3Cscript%20src%3D%22https%3A//maxcdn.bootstrapcdn.com/bootstrap/3.2.0/js/bootstrap.min.js%22%3E%3C/script%3E%0A%20%20%20%20%3Cscript%20src%3D%22https%3A//cdnjs.cloudflare.com/ajax/libs/Leaflet.awesome-markers/2.0.2/leaflet.awesome-markers.js%22%3E%3C/script%3E%0A%20%20%20%20%3Clink%20rel%3D%22stylesheet%22%20href%3D%22https%3A//cdn.jsdelivr.net/npm/leaflet%401.4.0/dist/leaflet.css%22/%3E%0A%20%20%20%20%3Clink%20rel%3D%22stylesheet%22%20href%3D%22https%3A//maxcdn.bootstrapcdn.com/bootstrap/3.2.0/css/bootstrap.min.css%22/%3E%0A%20%20%20%20%3Clink%20rel%3D%22stylesheet%22%20href%3D%22https%3A//maxcdn.bootstrapcdn.com/bootstrap/3.2.0/css/bootstrap-theme.min.css%22/%3E%0A%20%20%20%20%3Clink%20rel%3D%22stylesheet%22%20href%3D%22https%3A//maxcdn.bootstrapcdn.com/font-awesome/4.6.3/css/font-awesome.min.css%22/%3E%0A%20%20%20%20%3Clink%20rel%3D%22stylesheet%22%20href%3D%22https%3A//cdnjs.cloudflare.com/ajax/libs/Leaflet.awesome-markers/2.0.2/leaflet.awesome-markers.css%22/%3E%0A%20%20%20%20%3Clink%20rel%3D%22stylesheet%22%20href%3D%22https%3A//rawcdn.githack.com/python-visualization/folium/master/folium/templates/leaflet.awesome.rotate.css%22/%3E%0A%20%20%20%20%3Cstyle%3Ehtml%2C%20body%20%7Bwidth%3A%20100%25%3Bheight%3A%20100%25%3Bmargin%3A%200%3Bpadding%3A%200%3B%7D%3C/style%3E%0A%20%20%20%20%3Cstyle%3E%23map%20%7Bposition%3Aabsolute%3Btop%3A0%3Bbottom%3A0%3Bright%3A0%3Bleft%3A0%3B%7D%3C/style%3E%0A%20%20%20%20%0A%20%20%20%20%3Cmeta%20name%3D%22viewport%22%20content%3D%22width%3Ddevice-width%2C%0A%20%20%20%20%20%20%20%20initial-scale%3D1.0%2C%20maximum-scale%3D1.0%2C%20user-scalable%3Dno%22%20/%3E%0A%20%20%20%20%3Cstyle%3E%23map_9eddbbb2368b4a8a800b2ad00056de58%20%7B%0A%20%20%20%20%20%20%20%20position%3A%20relative%3B%0A%20%20%20%20%20%20%20%20width%3A%20100.0%25%3B%0A%20%20%20%20%20%20%20%20height%3A%20100.0%25%3B%0A%20%20%20%20%20%20%20%20left%3A%200.0%25%3B%0A%20%20%20%20%20%20%20%20top%3A%200.0%25%3B%0A%20%20%20%20%20%20%20%20%7D%0A%20%20%20%20%3C/style%3E%0A%3C/head%3E%0A%3Cbody%3E%20%20%20%20%0A%20%20%20%20%0A%20%20%20%20%3Cdiv%20class%3D%22folium-map%22%20id%3D%22map_9eddbbb2368b4a8a800b2ad00056de58%22%20%3E%3C/div%3E%0A%3C/body%3E%0A%3Cscript%3E%20%20%20%20%0A%20%20%20%20%0A%20%20%20%20%0A%20%20%20%20%20%20%20%20var%20bounds%20%3D%20null%3B%0A%20%20%20%20%0A%0A%20%20%20%20var%20map_9eddbbb2368b4a8a800b2ad00056de58%20%3D%20L.map%28%0A%20%20%20%20%20%20%20%20%27map_9eddbbb2368b4a8a800b2ad00056de58%27%2C%20%7B%0A%20%20%20%20%20%20%20%20center%3A%20%5B50.06143%2C%2019.93658%5D%2C%0A%20%20%20%20%20%20%20%20zoom%3A%2010%2C%0A%20%20%20%20%20%20%20%20maxBounds%3A%20bounds%2C%0A%20%20%20%20%20%20%20%20layers%3A%20%5B%5D%2C%0A%20%20%20%20%20%20%20%20worldCopyJump%3A%20false%2C%0A%20%20%20%20%20%20%20%20crs%3A%20L.CRS.EPSG3857%2C%0A%20%20%20%20%20%20%20%20zoomControl%3A%20true%2C%0A%20%20%20%20%20%20%20%20%7D%29%3B%0A%0A%0A%20%20%20%20%0A%20%20%20%20var%20tile_layer_7869d51c917e43bba17b5c8a0b73b546%20%3D%20L.tileLayer%28%0A%20%20%20%20%20%20%20%20%27https%3A//%7Bs%7D.tile.openstreetmap.org/%7Bz%7D/%7Bx%7D/%7By%7D.png%27%2C%0A%20%20%20%20%20%20%20%20%7B%0A%20%20%20%20%20%20%20%20%22attribution%22%3A%20null%2C%0A%20%20%20%20%20%20%20%20%22detectRetina%22%3A%20false%2C%0A%20%20%20%20%20%20%20%20%22maxNativeZoom%22%3A%2018%2C%0A%20%20%20%20%20%20%20%20%22maxZoom%22%3A%2018%2C%0A%20%20%20%20%20%20%20%20%22minZoom%22%3A%200%2C%0A%20%20%20%20%20%20%20%20%22noWrap%22%3A%20false%2C%0A%20%20%20%20%20%20%20%20%22opacity%22%3A%201%2C%0A%20%20%20%20%20%20%20%20%22subdomains%22%3A%20%22abc%22%2C%0A%20%20%20%20%20%20%20%20%22tms%22%3A%20false%0A%7D%29.addTo%28map_9eddbbb2368b4a8a800b2ad00056de58%29%3B%0A%20%20%20%20%0A%20%20%20%20%20%20%20%20var%20marker_8b25b2b2b98a47488e2a41abf1ff2565%20%3D%20L.marker%28%0A%20%20%20%20%20%20%20%20%20%20%20%20%5B50.87033%2C%2020.62752%5D%2C%0A%20%20%20%20%20%20%20%20%20%20%20%20%7B%0A%20%20%20%20%20%20%20%20%20%20%20%20%20%20%20%20icon%3A%20new%20L.Icon.Default%28%29%2C%0A%20%20%20%20%20%20%20%20%20%20%20%20%20%20%20%20%7D%0A%20%20%20%20%20%20%20%20%20%20%20%20%29.addTo%28map_9eddbbb2368b4a8a800b2ad00056de58%29%3B%0A%20%20%20%20%20%20%20%20%0A%20%20%20%20%0A%20%20%20%20%20%20%20%20var%20marker_ef93f94ace5b44bea48701e39b906aa0%20%3D%20L.marker%28%0A%20%20%20%20%20%20%20%20%20%20%20%20%5B51.1138821%2C%2020.857883%5D%2C%0A%20%20%20%20%20%20%20%20%20%20%20%20%7B%0A%20%20%20%20%20%20%20%20%20%20%20%20%20%20%20%20icon%3A%20new%20L.Icon.Default%28%29%2C%0A%20%20%20%20%20%20%20%20%20%20%20%20%20%20%20%20%7D%0A%20%20%20%20%20%20%20%20%20%20%20%20%29.addTo%28map_9eddbbb2368b4a8a800b2ad00056de58%29%3B%0A%20%20%20%20%20%20%20%20%0A%20%20%20%20%0A%20%20%20%20%20%20%20%20var%20marker_003f1fa2771b4a5bab42192bf1b5ac51%20%3D%20L.marker%28%0A%20%20%20%20%20%20%20%20%20%20%20%20%5B51.0518865%2C%2021.0761377%5D%2C%0A%20%20%20%20%20%20%20%20%20%20%20%20%7B%0A%20%20%20%20%20%20%20%20%20%20%20%20%20%20%20%20icon%3A%20new%20L.Icon.Default%28%29%2C%0A%20%20%20%20%20%20%20%20%20%20%20%20%20%20%20%20%7D%0A%20%20%20%20%20%20%20%20%20%20%20%20%29.addTo%28map_9eddbbb2368b4a8a800b2ad00056de58%29%3B%0A%20%20%20%20%20%20%20%20%0A%20%20%20%20%0A%20%20%20%20%20%20%20%20var%20marker_9a6b6d2c18754049b3d4f6f306b560e8%20%3D%20L.marker%28%0A%20%20%20%20%20%20%20%20%20%20%20%20%5B50.9398768%2C%2021.38743%5D%2C%0A%20%20%20%20%20%20%20%20%20%20%20%20%7B%0A%20%20%20%20%20%20%20%20%20%20%20%20%20%20%20%20icon%3A%20new%20L.Icon.Default%28%29%2C%0A%20%20%20%20%20%20%20%20%20%20%20%20%20%20%20%20%7D%0A%20%20%20%20%20%20%20%20%20%20%20%20%29.addTo%28map_9eddbbb2368b4a8a800b2ad00056de58%29%3B%0A%20%20%20%20%20%20%20%20%0A%20%20%20%20%0A%20%20%20%20%20%20%20%20var%20marker_d10e7840a589425d8b8a1334a614f8bf%20%3D%20L.marker%28%0A%20%20%20%20%20%20%20%20%20%20%20%20%5B50.8017661%2C%2021.4238281%5D%2C%0A%20%20%20%20%20%20%20%20%20%20%20%20%7B%0A%20%20%20%20%20%20%20%20%20%20%20%20%20%20%20%20icon%3A%20new%20L.Icon.Default%28%29%2C%0A%20%20%20%20%20%20%20%20%20%20%20%20%20%20%20%20%7D%0A%20%20%20%20%20%20%20%20%20%20%20%20%29.addTo%28map_9eddbbb2368b4a8a800b2ad00056de58%29%3B%0A%20%20%20%20%20%20%20%20%0A%20%20%20%20%0A%20%20%20%20%20%20%20%20var%20marker_6e7e672c441d498faead35d902d1c61f%20%3D%20L.marker%28%0A%20%20%20%20%20%20%20%20%20%20%20%20%5B50.5612276%2C%2021.1677849%5D%2C%0A%20%20%20%20%20%20%20%20%20%20%20%20%7B%0A%20%20%20%20%20%20%20%20%20%20%20%20%20%20%20%20icon%3A%20new%20L.Icon.Default%28%29%2C%0A%20%20%20%20%20%20%20%20%20%20%20%20%20%20%20%20%7D%0A%20%20%20%20%20%20%20%20%20%20%20%20%29.addTo%28map_9eddbbb2368b4a8a800b2ad00056de58%29%3B%0A%20%20%20%20%20%20%20%20%0A%20%20%20%20%0A%20%20%20%20%20%20%20%20var%20marker_f879d042967946ad802c343714bcdcc5%20%3D%20L.marker%28%0A%20%20%20%20%20%20%20%20%20%20%20%20%5B50.2892506%2C%2021.4243685%5D%2C%0A%20%20%20%20%20%20%20%20%20%20%20%20%7B%0A%20%20%20%20%20%20%20%20%20%20%20%20%20%20%20%20icon%3A%20new%20L.Icon.Default%28%29%2C%0A%20%20%20%20%20%20%20%20%20%20%20%20%20%20%20%20%7D%0A%20%20%20%20%20%20%20%20%20%20%20%20%29.addTo%28map_9eddbbb2368b4a8a800b2ad00056de58%29%3B%0A%20%20%20%20%20%20%20%20%0A%20%20%20%20%0A%20%20%20%20%20%20%20%20var%20marker_4a8aa05014c2497ca4821ae81b708582%20%3D%20L.marker%28%0A%20%20%20%20%20%20%20%20%20%20%20%20%5B50.0514601%2C%2021.4104804%5D%2C%0A%20%20%20%20%20%20%20%20%20%20%20%20%7B%0A%20%20%20%20%20%20%20%20%20%20%20%20%20%20%20%20icon%3A%20new%20L.Icon.Default%28%29%2C%0A%20%20%20%20%20%20%20%20%20%20%20%20%20%20%20%20%7D%0A%20%20%20%20%20%20%20%20%20%20%20%20%29.addTo%28map_9eddbbb2368b4a8a800b2ad00056de58%29%3B%0A%20%20%20%20%20%20%20%20%0A%20%20%20%20%0A%20%20%20%20%20%20%20%20var%20marker_2d190071822d473e85a6047b4928bd1b%20%3D%20L.marker%28%0A%20%20%20%20%20%20%20%20%20%20%20%20%5B50.0528608%2C%2021.6116324%5D%2C%0A%20%20%20%20%20%20%20%20%20%20%20%20%7B%0A%20%20%20%20%20%20%20%20%20%20%20%20%20%20%20%20icon%3A%20new%20L.Icon.Default%28%29%2C%0A%20%20%20%20%20%20%20%20%20%20%20%20%20%20%20%20%7D%0A%20%20%20%20%20%20%20%20%20%20%20%20%29.addTo%28map_9eddbbb2368b4a8a800b2ad00056de58%29%3B%0A%20%20%20%20%20%20%20%20%0A%20%20%20%20%0A%20%20%20%20%20%20%20%20var%20marker_1e47b7b1f15c4090baf57ff7799c5ecf%20%3D%20L.marker%28%0A%20%20%20%20%20%20%20%20%20%20%20%20%5B50.2433277%2C%2021.7754563%5D%2C%0A%20%20%20%20%20%20%20%20%20%20%20%20%7B%0A%20%20%20%20%20%20%20%20%20%20%20%20%20%20%20%20icon%3A%20new%20L.Icon.Default%28%29%2C%0A%20%20%20%20%20%20%20%20%20%20%20%20%20%20%20%20%7D%0A%20%20%20%20%20%20%20%20%20%20%20%20%29.addTo%28map_9eddbbb2368b4a8a800b2ad00056de58%29%3B%0A%20%20%20%20%20%20%20%20%0A%20%20%20%20%0A%20%20%20%20%20%20%20%20var%20marker_4e6db05fa253424c8aa5cc0a070f84d8%20%3D%20L.marker%28%0A%20%20%20%20%20%20%20%20%20%20%20%20%5B50.5715277%2C%2021.6704871%5D%2C%0A%20%20%20%20%20%20%20%20%20%20%20%20%7B%0A%20%20%20%20%20%20%20%20%20%20%20%20%20%20%20%20icon%3A%20new%20L.Icon.Default%28%29%2C%0A%20%20%20%20%20%20%20%20%20%20%20%20%20%20%20%20%7D%0A%20%20%20%20%20%20%20%20%20%20%20%20%29.addTo%28map_9eddbbb2368b4a8a800b2ad00056de58%29%3B%0A%20%20%20%20%20%20%20%20%0A%20%20%20%20%0A%20%20%20%20%20%20%20%20var%20marker_636e4d0f3d9d46afbc0c9172f797c325%20%3D%20L.marker%28%0A%20%20%20%20%20%20%20%20%20%20%20%20%5B50.68265%2C%2021.74898%5D%2C%0A%20%20%20%20%20%20%20%20%20%20%20%20%7B%0A%20%20%20%20%20%20%20%20%20%20%20%20%20%20%20%20icon%3A%20new%20L.Icon.Default%28%29%2C%0A%20%20%20%20%20%20%20%20%20%20%20%20%20%20%20%20%7D%0A%20%20%20%20%20%20%20%20%20%20%20%20%29.addTo%28map_9eddbbb2368b4a8a800b2ad00056de58%29%3B%0A%20%20%20%20%20%20%20%20%0A%20%20%20%20%0A%20%20%20%20%20%20%20%20var%20marker_75c3f0cbf69e499f8f0b6cdbaed1411b%20%3D%20L.marker%28%0A%20%20%20%20%20%20%20%20%20%20%20%20%5B50.5653105%2C%2022.0644075%5D%2C%0A%20%20%20%20%20%20%20%20%20%20%20%20%7B%0A%20%20%20%20%20%20%20%20%20%20%20%20%20%20%20%20icon%3A%20new%20L.Icon.Default%28%29%2C%0A%20%20%20%20%20%20%20%20%20%20%20%20%20%20%20%20%7D%0A%20%20%20%20%20%20%20%20%20%20%20%20%29.addTo%28map_9eddbbb2368b4a8a800b2ad00056de58%29%3B%0A%20%20%20%20%20%20%20%20%0A%20%20%20%20%0A%20%20%20%20%20%20%20%20var%20marker_5bbde59d92624d50acc6843c6079f123%20%3D%20L.marker%28%0A%20%20%20%20%20%20%20%20%20%20%20%20%5B50.5198985%2C%2022.139886%5D%2C%0A%20%20%20%20%20%20%20%20%20%20%20%20%7B%0A%20%20%20%20%20%20%20%20%20%20%20%20%20%20%20%20icon%3A%20new%20L.Icon.Default%28%29%2C%0A%20%20%20%20%20%20%20%20%20%20%20%20%20%20%20%20%7D%0A%20%20%20%20%20%20%20%20%20%20%20%20%29.addTo%28map_9eddbbb2368b4a8a800b2ad00056de58%29%3B%0A%20%20%20%20%20%20%20%20%0A%20%20%20%20%0A%20%20%20%20%20%20%20%20var%20marker_ee4aec20b6a84fe1b2dc45fc8c1b7577%20%3D%20L.marker%28%0A%20%20%20%20%20%20%20%20%20%20%20%20%5B50.04132%2C%2021.99901%5D%2C%0A%20%20%20%20%20%20%20%20%20%20%20%20%7B%0A%20%20%20%20%20%20%20%20%20%20%20%20%20%20%20%20icon%3A%20new%20L.Icon.Default%28%29%2C%0A%20%20%20%20%20%20%20%20%20%20%20%20%20%20%20%20%7D%0A%20%20%20%20%20%20%20%20%20%20%20%20%29.addTo%28map_9eddbbb2368b4a8a800b2ad00056de58%29%3B%0A%20%20%20%20%20%20%20%20%0A%20%20%20%20%0A%20%20%20%20%20%20%20%20var%20marker_aee49e6650b14c709237aeb541bb63c3%20%3D%20L.marker%28%0A%20%20%20%20%20%20%20%20%20%20%20%20%5B50.0690725%2C%2022.2320924%5D%2C%0A%20%20%20%20%20%20%20%20%20%20%20%20%7B%0A%20%20%20%20%20%20%20%20%20%20%20%20%20%20%20%20icon%3A%20new%20L.Icon.Default%28%29%2C%0A%20%20%20%20%20%20%20%20%20%20%20%20%20%20%20%20%7D%0A%20%20%20%20%20%20%20%20%20%20%20%20%29.addTo%28map_9eddbbb2368b4a8a800b2ad00056de58%29%3B%0A%20%20%20%20%20%20%20%20%0A%20%20%20%20%0A%20%20%20%20%20%20%20%20var%20marker_996db47650bd40ee9e562559fb761d1a%20%3D%20L.marker%28%0A%20%20%20%20%20%20%20%20%20%20%20%20%5B50.2621687%2C%2022.418892%5D%2C%0A%20%20%20%20%20%20%20%20%20%20%20%20%7B%0A%20%20%20%20%20%20%20%20%20%20%20%20%20%20%20%20icon%3A%20new%20L.Icon.Default%28%29%2C%0A%20%20%20%20%20%20%20%20%20%20%20%20%20%20%20%20%7D%0A%20%20%20%20%20%20%20%20%20%20%20%20%29.addTo%28map_9eddbbb2368b4a8a800b2ad00056de58%29%3B%0A%20%20%20%20%20%20%20%20%0A%20%20%20%20%0A%20%20%20%20%20%20%20%20var%20marker_5df65e12bf3941b198ccf0181aedeb48%20%3D%20L.marker%28%0A%20%20%20%20%20%20%20%20%20%20%20%20%5B50.0601735%2C%2022.4923769%5D%2C%0A%20%20%20%20%20%20%20%20%20%20%20%20%7B%0A%20%20%20%20%20%20%20%20%20%20%20%20%20%20%20%20icon%3A%20new%20L.Icon.Default%28%29%2C%0A%20%20%20%20%20%20%20%20%20%20%20%20%20%20%20%20%7D%0A%20%20%20%20%20%20%20%20%20%20%20%20%29.addTo%28map_9eddbbb2368b4a8a800b2ad00056de58%29%3B%0A%20%20%20%20%20%20%20%20%0A%20%20%20%20%0A%20%20%20%20%20%20%20%20var%20marker_fe5b59be871c4a3d9f93d1f1304d08fc%20%3D%20L.marker%28%0A%20%20%20%20%20%20%20%20%20%20%20%20%5B50.0104958%2C%2022.678605%5D%2C%0A%20%20%20%20%20%20%20%20%20%20%20%20%7B%0A%20%20%20%20%20%20%20%20%20%20%20%20%20%20%20%20icon%3A%20new%20L.Icon.Default%28%29%2C%0A%20%20%20%20%20%20%20%20%20%20%20%20%20%20%20%20%7D%0A%20%20%20%20%20%20%20%20%20%20%20%20%29.addTo%28map_9eddbbb2368b4a8a800b2ad00056de58%29%3B%0A%20%20%20%20%20%20%20%20%0A%20%20%20%20%0A%20%20%20%20%20%20%20%20var%20marker_a054165590564c2781fdbeeff1487131%20%3D%20L.marker%28%0A%20%20%20%20%20%20%20%20%20%20%20%20%5B50.1574473%2C%2023.1225859%5D%2C%0A%20%20%20%20%20%20%20%20%20%20%20%20%7B%0A%20%20%20%20%20%20%20%20%20%20%20%20%20%20%20%20icon%3A%20new%20L.Icon.Default%28%29%2C%0A%20%20%20%20%20%20%20%20%20%20%20%20%20%20%20%20%7D%0A%20%20%20%20%20%20%20%20%20%20%20%20%29.addTo%28map_9eddbbb2368b4a8a800b2ad00056de58%29%3B%0A%20%20%20%20%20%20%20%20%0A%20%20%20%20%0A%20%20%20%20%20%20%20%20var%20marker_8ead0a9f73de4500b5cda9b2ad3162e6%20%3D%20L.marker%28%0A%20%20%20%20%20%20%20%20%20%20%20%20%5B49.7821562%2C%2022.7692634%5D%2C%0A%20%20%20%20%20%20%20%20%20%20%20%20%7B%0A%20%20%20%20%20%20%20%20%20%20%20%20%20%20%20%20icon%3A%20new%20L.Icon.Default%28%29%2C%0A%20%20%20%20%20%20%20%20%20%20%20%20%20%20%20%20%7D%0A%20%20%20%20%20%20%20%20%20%20%20%20%29.addTo%28map_9eddbbb2368b4a8a800b2ad00056de58%29%3B%0A%20%20%20%20%20%20%20%20%0A%20%20%20%20%0A%20%20%20%20%20%20%20%20var%20marker_166e5e402308414895ca24cc1128d62a%20%3D%20L.marker%28%0A%20%20%20%20%20%20%20%20%20%20%20%20%5B49.4301874%2C%2022.5877003%5D%2C%0A%20%20%20%20%20%20%20%20%20%20%20%20%7B%0A%20%20%20%20%20%20%20%20%20%20%20%20%20%20%20%20icon%3A%20new%20L.Icon.Default%28%29%2C%0A%20%20%20%20%20%20%20%20%20%20%20%20%20%20%20%20%7D%0A%20%20%20%20%20%20%20%20%20%20%20%20%29.addTo%28map_9eddbbb2368b4a8a800b2ad00056de58%29%3B%0A%20%20%20%20%20%20%20%20%0A%20%20%20%20%0A%20%20%20%20%20%20%20%20var%20marker_f7ea3c334e7d4c1ba0f0e98d0e02d608%20%3D%20L.marker%28%0A%20%20%20%20%20%20%20%20%20%20%20%20%5B49.4689014%2C%2022.3303816%5D%2C%0A%20%20%20%20%20%20%20%20%20%20%20%20%7B%0A%20%20%20%20%20%20%20%20%20%20%20%20%20%20%20%20icon%3A%20new%20L.Icon.Default%28%29%2C%0A%20%20%20%20%20%20%20%20%20%20%20%20%20%20%20%20%7D%0A%20%20%20%20%20%20%20%20%20%20%20%20%29.addTo%28map_9eddbbb2368b4a8a800b2ad00056de58%29%3B%0A%20%20%20%20%20%20%20%20%0A%20%20%20%20%0A%20%20%20%20%20%20%20%20var%20marker_b7fe4d96885f4c8b977aa6765ca46da7%20%3D%20L.marker%28%0A%20%20%20%20%20%20%20%20%20%20%20%20%5B49.5609053%2C%2022.207028%5D%2C%0A%20%20%20%20%20%20%20%20%20%20%20%20%7B%0A%20%20%20%20%20%20%20%20%20%20%20%20%20%20%20%20icon%3A%20new%20L.Icon.Default%28%29%2C%0A%20%20%20%20%20%20%20%20%20%20%20%20%20%20%20%20%7D%0A%20%20%20%20%20%20%20%20%20%20%20%20%29.addTo%28map_9eddbbb2368b4a8a800b2ad00056de58%29%3B%0A%20%20%20%20%20%20%20%20%0A%20%20%20%20%0A%20%20%20%20%20%20%20%20var%20marker_2549f44a74e44786b5448344cb6e3411%20%3D%20L.marker%28%0A%20%20%20%20%20%20%20%20%20%20%20%20%5B49.6950395%2C%2022.0196537%5D%2C%0A%20%20%20%20%20%20%20%20%20%20%20%20%7B%0A%20%20%20%20%20%20%20%20%20%20%20%20%20%20%20%20icon%3A%20new%20L.Icon.Default%28%29%2C%0A%20%20%20%20%20%20%20%20%20%20%20%20%20%20%20%20%7D%0A%20%20%20%20%20%20%20%20%20%20%20%20%29.addTo%28map_9eddbbb2368b4a8a800b2ad00056de58%29%3B%0A%20%20%20%20%20%20%20%20%0A%20%20%20%20%0A%20%20%20%20%20%20%20%20var%20marker_4881fed4f938482486dfa9478ff4c678%20%3D%20L.marker%28%0A%20%20%20%20%20%20%20%20%20%20%20%20%5B49.870208%2C%2021.7856291%5D%2C%0A%20%20%20%20%20%20%20%20%20%20%20%20%7B%0A%20%20%20%20%20%20%20%20%20%20%20%20%20%20%20%20icon%3A%20new%20L.Icon.Default%28%29%2C%0A%20%20%20%20%20%20%20%20%20%20%20%20%20%20%20%20%7D%0A%20%20%20%20%20%20%20%20%20%20%20%20%29.addTo%28map_9eddbbb2368b4a8a800b2ad00056de58%29%3B%0A%20%20%20%20%20%20%20%20%0A%20%20%20%20%0A%20%20%20%20%20%20%20%20var%20marker_ec54a164018b4228b7e9251158895cf7%20%3D%20L.marker%28%0A%20%20%20%20%20%20%20%20%20%20%20%20%5B49.6938045%2C%2021.7651458%5D%2C%0A%20%20%20%20%20%20%20%20%20%20%20%20%7B%0A%20%20%20%20%20%20%20%20%20%20%20%20%20%20%20%20icon%3A%20new%20L.Icon.Default%28%29%2C%0A%20%20%20%20%20%20%20%20%20%20%20%20%20%20%20%20%7D%0A%20%20%20%20%20%20%20%20%20%20%20%20%29.addTo%28map_9eddbbb2368b4a8a800b2ad00056de58%29%3B%0A%20%20%20%20%20%20%20%20%0A%20%20%20%20%0A%20%20%20%20%20%20%20%20var%20marker_5db949c52ddf43d58e08b8753f79ab5f%20%3D%20L.marker%28%0A%20%20%20%20%20%20%20%20%20%20%20%20%5B49.7470465%2C%2021.4743139%5D%2C%0A%20%20%20%20%20%20%20%20%20%20%20%20%7B%0A%20%20%20%20%20%20%20%20%20%20%20%20%20%20%20%20icon%3A%20new%20L.Icon.Default%28%29%2C%0A%20%20%20%20%20%20%20%20%20%20%20%20%20%20%20%20%7D%0A%20%20%20%20%20%20%20%20%20%20%20%20%29.addTo%28map_9eddbbb2368b4a8a800b2ad00056de58%29%3B%0A%20%20%20%20%20%20%20%20%0A%20%20%20%20%0A%20%20%20%20%20%20%20%20var%20marker_2c32d6d47386472db5d1a7b82ea0fb4a%20%3D%20L.marker%28%0A%20%20%20%20%20%20%20%20%20%20%20%20%5B49.65829%2C%2021.1593832%5D%2C%0A%20%20%20%20%20%20%20%20%20%20%20%20%7B%0A%20%20%20%20%20%20%20%20%20%20%20%20%20%20%20%20icon%3A%20new%20L.Icon.Default%28%29%2C%0A%20%20%20%20%20%20%20%20%20%20%20%20%20%20%20%20%7D%0A%20%20%20%20%20%20%20%20%20%20%20%20%29.addTo%28map_9eddbbb2368b4a8a800b2ad00056de58%29%3B%0A%20%20%20%20%20%20%20%20%0A%20%20%20%20%0A%20%20%20%20%20%20%20%20var%20marker_d0aaf8dd97e349708d59528ffcec07e1%20%3D%20L.marker%28%0A%20%20%20%20%20%20%20%20%20%20%20%20%5B50.0123784%2C%2020.9880739%5D%2C%0A%20%20%20%20%20%20%20%20%20%20%20%20%7B%0A%20%20%20%20%20%20%20%20%20%20%20%20%20%20%20%20icon%3A%20new%20L.Icon.Default%28%29%2C%0A%20%20%20%20%20%20%20%20%20%20%20%20%20%20%20%20%7D%0A%20%20%20%20%20%20%20%20%20%20%20%20%29.addTo%28map_9eddbbb2368b4a8a800b2ad00056de58%29%3B%0A%20%20%20%20%20%20%20%20%0A%20%20%20%20%0A%20%20%20%20%20%20%20%20var%20marker_1276bc40efeb4713986141f6bc979ad2%20%3D%20L.marker%28%0A%20%20%20%20%20%20%20%20%20%20%20%20%5B50.1743495%2C%2020.9850707%5D%2C%0A%20%20%20%20%20%20%20%20%20%20%20%20%7B%0A%20%20%20%20%20%20%20%20%20%20%20%20%20%20%20%20icon%3A%20new%20L.Icon.Default%28%29%2C%0A%20%20%20%20%20%20%20%20%20%20%20%20%20%20%20%20%7D%0A%20%20%20%20%20%20%20%20%20%20%20%20%29.addTo%28map_9eddbbb2368b4a8a800b2ad00056de58%29%3B%0A%20%20%20%20%20%20%20%20%0A%20%20%20%20%0A%20%20%20%20%20%20%20%20var%20marker_ff15f779e0c84bf2bc3b546a26fada0f%20%3D%20L.marker%28%0A%20%20%20%20%20%20%20%20%20%20%20%20%5B50.46759%2C%2020.71919%5D%2C%0A%20%20%20%20%20%20%20%20%20%20%20%20%7B%0A%20%20%20%20%20%20%20%20%20%20%20%20%20%20%20%20icon%3A%20new%20L.Icon.Default%28%29%2C%0A%20%20%20%20%20%20%20%20%20%20%20%20%20%20%20%20%7D%0A%20%20%20%20%20%20%20%20%20%20%20%20%29.addTo%28map_9eddbbb2368b4a8a800b2ad00056de58%29%3B%0A%20%20%20%20%20%20%20%20%0A%20%20%20%20%0A%20%20%20%20%20%20%20%20var%20marker_68d9af2a36494d04ab3faaae808a0cde%20%3D%20L.marker%28%0A%20%20%20%20%20%20%20%20%20%20%20%20%5B50.5201929%2C%2020.5256241%5D%2C%0A%20%20%20%20%20%20%20%20%20%20%20%20%7B%0A%20%20%20%20%20%20%20%20%20%20%20%20%20%20%20%20icon%3A%20new%20L.Icon.Default%28%29%2C%0A%20%20%20%20%20%20%20%20%20%20%20%20%20%20%20%20%7D%0A%20%20%20%20%20%20%20%20%20%20%20%20%29.addTo%28map_9eddbbb2368b4a8a800b2ad00056de58%29%3B%0A%20%20%20%20%20%20%20%20%0A%20%20%20%20%0A%20%20%20%20%20%20%20%20var%20marker_db34cc42b3e04a56be1538c5a766a363%20%3D%20L.marker%28%0A%20%20%20%20%20%20%20%20%20%20%20%20%5B50.267489%2C%2020.4853308%5D%2C%0A%20%20%20%20%20%20%20%20%20%20%20%20%7B%0A%20%20%20%20%20%20%20%20%20%20%20%20%20%20%20%20icon%3A%20new%20L.Icon.Default%28%29%2C%0A%20%20%20%20%20%20%20%20%20%20%20%20%20%20%20%20%7D%0A%20%20%20%20%20%20%20%20%20%20%20%20%29.addTo%28map_9eddbbb2368b4a8a800b2ad00056de58%29%3B%0A%20%20%20%20%20%20%20%20%0A%20%20%20%20%0A%20%20%20%20%20%20%20%20var%20marker_c253073a1c0340d8847c588ef7cb99c4%20%3D%20L.marker%28%0A%20%20%20%20%20%20%20%20%20%20%20%20%5B49.9693563%2C%2020.430541%5D%2C%0A%20%20%20%20%20%20%20%20%20%20%20%20%7B%0A%20%20%20%20%20%20%20%20%20%20%20%20%20%20%20%20icon%3A%20new%20L.Icon.Default%28%29%2C%0A%20%20%20%20%20%20%20%20%20%20%20%20%20%20%20%20%7D%0A%20%20%20%20%20%20%20%20%20%20%20%20%29.addTo%28map_9eddbbb2368b4a8a800b2ad00056de58%29%3B%0A%20%20%20%20%20%20%20%20%0A%20%20%20%20%0A%20%20%20%20%20%20%20%20var%20marker_b200d05bc6d743428721c3d638ea6acb%20%3D%20L.marker%28%0A%20%20%20%20%20%20%20%20%20%20%20%20%5B49.9678396%2C%2020.6068496%5D%2C%0A%20%20%20%20%20%20%20%20%20%20%20%20%7B%0A%20%20%20%20%20%20%20%20%20%20%20%20%20%20%20%20icon%3A%20new%20L.Icon.Default%28%29%2C%0A%20%20%20%20%20%20%20%20%20%20%20%20%20%20%20%20%7D%0A%20%20%20%20%20%20%20%20%20%20%20%20%29.addTo%28map_9eddbbb2368b4a8a800b2ad00056de58%29%3B%0A%20%20%20%20%20%20%20%20%0A%20%20%20%20%0A%20%20%20%20%20%20%20%20var%20marker_8e8c85d06407411e95dea5b6b3f69ce3%20%3D%20L.marker%28%0A%20%20%20%20%20%20%20%20%20%20%20%20%5B49.6249173%2C%2020.691346%5D%2C%0A%20%20%20%20%20%20%20%20%20%20%20%20%7B%0A%20%20%20%20%20%20%20%20%20%20%20%20%20%20%20%20icon%3A%20new%20L.Icon.Default%28%29%2C%0A%20%20%20%20%20%20%20%20%20%20%20%20%20%20%20%20%7D%0A%20%20%20%20%20%20%20%20%20%20%20%20%29.addTo%28map_9eddbbb2368b4a8a800b2ad00056de58%29%3B%0A%20%20%20%20%20%20%20%20%0A%20%20%20%20%0A%20%20%20%20%20%20%20%20var%20marker_a325f96127704bdc8e1ad36c8655b526%20%3D%20L.marker%28%0A%20%20%20%20%20%20%20%20%20%20%20%20%5B49.7061713%2C%2020.4217266%5D%2C%0A%20%20%20%20%20%20%20%20%20%20%20%20%7B%0A%20%20%20%20%20%20%20%20%20%20%20%20%20%20%20%20icon%3A%20new%20L.Icon.Default%28%29%2C%0A%20%20%20%20%20%20%20%20%20%20%20%20%20%20%20%20%7D%0A%20%20%20%20%20%20%20%20%20%20%20%20%29.addTo%28map_9eddbbb2368b4a8a800b2ad00056de58%29%3B%0A%20%20%20%20%20%20%20%20%0A%20%20%20%20%0A%20%20%20%20%20%20%20%20var%20marker_23d21e52e049452dbfb6c31892e34415%20%3D%20L.marker%28%0A%20%20%20%20%20%20%20%20%20%20%20%20%5B49.9823773%2C%2020.0602114%5D%2C%0A%20%20%20%20%20%20%20%20%20%20%20%20%7B%0A%20%20%20%20%20%20%20%20%20%20%20%20%20%20%20%20icon%3A%20new%20L.Icon.Default%28%29%2C%0A%20%20%20%20%20%20%20%20%20%20%20%20%20%20%20%20%7D%0A%20%20%20%20%20%20%20%20%20%20%20%20%29.addTo%28map_9eddbbb2368b4a8a800b2ad00056de58%29%3B%0A%20%20%20%20%20%20%20%20%0A%20%20%20%20%0A%20%20%20%20%20%20%20%20var%20marker_2ddb645e0d094d13b39afb934e5c8402%20%3D%20L.marker%28%0A%20%20%20%20%20%20%20%20%20%20%20%20%5B50.06143%2C%2019.93658%5D%2C%0A%20%20%20%20%20%20%20%20%20%20%20%20%7B%0A%20%20%20%20%20%20%20%20%20%20%20%20%20%20%20%20icon%3A%20new%20L.Icon.Default%28%29%2C%0A%20%20%20%20%20%20%20%20%20%20%20%20%20%20%20%20%7D%0A%20%20%20%20%20%20%20%20%20%20%20%20%29.addTo%28map_9eddbbb2368b4a8a800b2ad00056de58%29%3B%0A%20%20%20%20%20%20%20%20%0A%20%20%20%20%0A%20%20%20%20%20%20%20%20var%20marker_d18ff305a4544f7eb122d1dfe2232bf1%20%3D%20L.marker%28%0A%20%20%20%20%20%20%20%20%20%20%20%20%5B49.834608%2C%2019.9384283%5D%2C%0A%20%20%20%20%20%20%20%20%20%20%20%20%7B%0A%20%20%20%20%20%20%20%20%20%20%20%20%20%20%20%20icon%3A%20new%20L.Icon.Default%28%29%2C%0A%20%20%20%20%20%20%20%20%20%20%20%20%20%20%20%20%7D%0A%20%20%20%20%20%20%20%20%20%20%20%20%29.addTo%28map_9eddbbb2368b4a8a800b2ad00056de58%29%3B%0A%20%20%20%20%20%20%20%20%0A%20%20%20%20%0A%20%20%20%20%20%20%20%20var%20marker_699e6bc9e26343e89c8f10361589abec%20%3D%20L.marker%28%0A%20%20%20%20%20%20%20%20%20%20%20%20%5B49.4818229%2C%2020.030541%5D%2C%0A%20%20%20%20%20%20%20%20%20%20%20%20%7B%0A%20%20%20%20%20%20%20%20%20%20%20%20%20%20%20%20icon%3A%20new%20L.Icon.Default%28%29%2C%0A%20%20%20%20%20%20%20%20%20%20%20%20%20%20%20%20%7D%0A%20%20%20%20%20%20%20%20%20%20%20%20%29.addTo%28map_9eddbbb2368b4a8a800b2ad00056de58%29%3B%0A%20%20%20%20%20%20%20%20%0A%20%20%20%20%0A%20%20%20%20%20%20%20%20var%20marker_260d6f59fe2344228415890ad9a77c9e%20%3D%20L.marker%28%0A%20%20%20%20%20%20%20%20%20%20%20%20%5B49.2969446%2C%2019.950659%5D%2C%0A%20%20%20%20%20%20%20%20%20%20%20%20%7B%0A%20%20%20%20%20%20%20%20%20%20%20%20%20%20%20%20icon%3A%20new%20L.Icon.Default%28%29%2C%0A%20%20%20%20%20%20%20%20%20%20%20%20%20%20%20%20%7D%0A%20%20%20%20%20%20%20%20%20%20%20%20%29.addTo%28map_9eddbbb2368b4a8a800b2ad00056de58%29%3B%0A%20%20%20%20%20%20%20%20%0A%20%20%20%20%0A%20%20%20%20%20%20%20%20var%20marker_b1cc86d946c645289cdc052c5c5facda%20%3D%20L.marker%28%0A%20%20%20%20%20%20%20%20%20%20%20%20%5B49.74079%2C%2019.5905975%5D%2C%0A%20%20%20%20%20%20%20%20%20%20%20%20%7B%0A%20%20%20%20%20%20%20%20%20%20%20%20%20%20%20%20icon%3A%20new%20L.Icon.Default%28%29%2C%0A%20%20%20%20%20%20%20%20%20%20%20%20%20%20%20%20%7D%0A%20%20%20%20%20%20%20%20%20%20%20%20%29.addTo%28map_9eddbbb2368b4a8a800b2ad00056de58%29%3B%0A%20%20%20%20%20%20%20%20%0A%20%20%20%20%0A%20%20%20%20%20%20%20%20var%20marker_aea123f7f1dd4bbcb7ac2243d989d626%20%3D%20L.marker%28%0A%20%20%20%20%20%20%20%20%20%20%20%20%5B49.8834484%2C%2019.4925345%5D%2C%0A%20%20%20%20%20%20%20%20%20%20%20%20%7B%0A%20%20%20%20%20%20%20%20%20%20%20%20%20%20%20%20icon%3A%20new%20L.Icon.Default%28%29%2C%0A%20%20%20%20%20%20%20%20%20%20%20%20%20%20%20%20%7D%0A%20%20%20%20%20%20%20%20%20%20%20%20%29.addTo%28map_9eddbbb2368b4a8a800b2ad00056de58%29%3B%0A%20%20%20%20%20%20%20%20%0A%20%20%20%20%0A%20%20%20%20%20%20%20%20var%20marker_8451f12b036a4f619688ea911a96df12%20%3D%20L.marker%28%0A%20%20%20%20%20%20%20%20%20%20%20%20%5B50.0382443%2C%2019.2214053%5D%2C%0A%20%20%20%20%20%20%20%20%20%20%20%20%7B%0A%20%20%20%20%20%20%20%20%20%20%20%20%20%20%20%20icon%3A%20new%20L.Icon.Default%28%29%2C%0A%20%20%20%20%20%20%20%20%20%20%20%20%20%20%20%20%7D%0A%20%20%20%20%20%20%20%20%20%20%20%20%29.addTo%28map_9eddbbb2368b4a8a800b2ad00056de58%29%3B%0A%20%20%20%20%20%20%20%20%0A%20%20%20%20%0A%20%20%20%20%20%20%20%20var%20marker_853735c20bba45e3be737577598464cb%20%3D%20L.marker%28%0A%20%20%20%20%20%20%20%20%20%20%20%20%5B50.1411926%2C%2019.4028502%5D%2C%0A%20%20%20%20%20%20%20%20%20%20%20%20%7B%0A%20%20%20%20%20%20%20%20%20%20%20%20%20%20%20%20icon%3A%20new%20L.Icon.Default%28%29%2C%0A%20%20%20%20%20%20%20%20%20%20%20%20%20%20%20%20%7D%0A%20%20%20%20%20%20%20%20%20%20%20%20%29.addTo%28map_9eddbbb2368b4a8a800b2ad00056de58%29%3B%0A%20%20%20%20%20%20%20%20%0A%20%20%20%20%0A%20%20%20%20%20%20%20%20var%20marker_eb639001e7a8427b8592fdc24761e634%20%3D%20L.marker%28%0A%20%20%20%20%20%20%20%20%20%20%20%20%5B50.2788158%2C%2019.5596307%5D%2C%0A%20%20%20%20%20%20%20%20%20%20%20%20%7B%0A%20%20%20%20%20%20%20%20%20%20%20%20%20%20%20%20icon%3A%20new%20L.Icon.Default%28%29%2C%0A%20%20%20%20%20%20%20%20%20%20%20%20%20%20%20%20%7D%0A%20%20%20%20%20%20%20%20%20%20%20%20%29.addTo%28map_9eddbbb2368b4a8a800b2ad00056de58%29%3B%0A%20%20%20%20%20%20%20%20%0A%20%20%20%20%0A%20%20%20%20%20%20%20%20var%20marker_81b983da959843dba7c7889b6ae78bb2%20%3D%20L.marker%28%0A%20%20%20%20%20%20%20%20%20%20%20%20%5B50.3566016%2C%2020.0276912%5D%2C%0A%20%20%20%20%20%20%20%20%20%20%20%20%7B%0A%20%20%20%20%20%20%20%20%20%20%20%20%20%20%20%20icon%3A%20new%20L.Icon.Default%28%29%2C%0A%20%20%20%20%20%20%20%20%20%20%20%20%20%20%20%20%7D%0A%20%20%20%20%20%20%20%20%20%20%20%20%29.addTo%28map_9eddbbb2368b4a8a800b2ad00056de58%29%3B%0A%20%20%20%20%20%20%20%20%0A%20%20%20%20%0A%20%20%20%20%20%20%20%20var%20marker_225c8d4140c24cbdb49cf51314eec9aa%20%3D%20L.marker%28%0A%20%20%20%20%20%20%20%20%20%20%20%20%5B50.6394435%2C%2020.3046116%5D%2C%0A%20%20%20%20%20%20%20%20%20%20%20%20%7B%0A%20%20%20%20%20%20%20%20%20%20%20%20%20%20%20%20icon%3A%20new%20L.Icon.Default%28%29%2C%0A%20%20%20%20%20%20%20%20%20%20%20%20%20%20%20%20%7D%0A%20%20%20%20%20%20%20%20%20%20%20%20%29.addTo%28map_9eddbbb2368b4a8a800b2ad00056de58%29%3B%0A%20%20%20%20%20%20%20%20%0A%20%20%20%20%0A%20%20%20%20%20%20%20%20var%20marker_be032f2436f1421a866bced7f926a9a7%20%3D%20L.marker%28%0A%20%20%20%20%20%20%20%20%20%20%20%20%5B50.8520727%2C%2019.9667772%5D%2C%0A%20%20%20%20%20%20%20%20%20%20%20%20%7B%0A%20%20%20%20%20%20%20%20%20%20%20%20%20%20%20%20icon%3A%20new%20L.Icon.Default%28%29%2C%0A%20%20%20%20%20%20%20%20%20%20%20%20%20%20%20%20%7D%0A%20%20%20%20%20%20%20%20%20%20%20%20%29.addTo%28map_9eddbbb2368b4a8a800b2ad00056de58%29%3B%0A%20%20%20%20%20%20%20%20%0A%20%20%20%20%0A%20%20%20%20%20%20%20%20var%20marker_a23e8fc7d3964b7ea3c9a3efbeb9fb6c%20%3D%20L.marker%28%0A%20%20%20%20%20%20%20%20%20%20%20%20%5B51.1910223%2C%2020.4071836%5D%2C%0A%20%20%20%20%20%20%20%20%20%20%20%20%7B%0A%20%20%20%20%20%20%20%20%20%20%20%20%20%20%20%20icon%3A%20new%20L.Icon.Default%28%29%2C%0A%20%20%20%20%20%20%20%20%20%20%20%20%20%20%20%20%7D%0A%20%20%20%20%20%20%20%20%20%20%20%20%29.addTo%28map_9eddbbb2368b4a8a800b2ad00056de58%29%3B%0A%20%20%20%20%20%20%20%20%0A%20%20%20%20%0A%20%20%20%20%20%20%20%20var%20marker_cc2b4136bac34838b8e85504a72e610b%20%3D%20L.marker%28%0A%20%20%20%20%20%20%20%20%20%20%20%20%5B50.87033%2C%2020.62752%5D%2C%0A%20%20%20%20%20%20%20%20%20%20%20%20%7B%0A%20%20%20%20%20%20%20%20%20%20%20%20%20%20%20%20icon%3A%20new%20L.Icon.Default%28%29%2C%0A%20%20%20%20%20%20%20%20%20%20%20%20%20%20%20%20%7D%0A%20%20%20%20%20%20%20%20%20%20%20%20%29.addTo%28map_9eddbbb2368b4a8a800b2ad00056de58%29%3B%0A%20%20%20%20%20%20%20%20%0A%3C/script%3E onload=\"this.contentDocument.open();this.contentDocument.write(    decodeURIComponent(this.getAttribute('data-html')));this.contentDocument.close();\" allowfullscreen webkitallowfullscreen mozallowfullscreen></iframe></div></div>"
            ],
            "text/plain": [
              "<folium.folium.Map at 0x7f3f0879fcf8>"
            ]
          },
          "metadata": {
            "tags": []
          },
          "execution_count": 31
        }
      ]
    },
    {
      "cell_type": "code",
      "metadata": {
        "colab": {
          "base_uri": "https://localhost:8080/",
          "height": 771
        },
        "id": "SHDb9IIZVk3x",
        "outputId": "611e7468-0087-4c40-991e-d1b85f423a90"
      },
      "source": [
        "my_map = folium.Map([50.0614300,19.9365800])\r\n",
        "for i in tour:\r\n",
        "    folium.Marker(i).add_to(my_map)\r\n",
        "    \r\n",
        "folium.PolyLine(tour, color=\"red\", weight=2.5, opacity=1).add_to(my_map)\r\n",
        "my_map"
      ],
      "execution_count": 32,
      "outputs": [
        {
          "output_type": "execute_result",
          "data": {
            "text/html": [
              "<div style=\"width:100%;\"><div style=\"position:relative;width:100%;height:0;padding-bottom:60%;\"><span style=\"color:#565656\">Make this Notebook Trusted to load map: File -> Trust Notebook</span><iframe src=\"about:blank\" style=\"position:absolute;width:100%;height:100%;left:0;top:0;border:none !important;\" data-html=%3C%21DOCTYPE%20html%3E%0A%3Chead%3E%20%20%20%20%0A%20%20%20%20%3Cmeta%20http-equiv%3D%22content-type%22%20content%3D%22text/html%3B%20charset%3DUTF-8%22%20/%3E%0A%20%20%20%20%3Cscript%3EL_PREFER_CANVAS%3Dfalse%3B%20L_NO_TOUCH%3Dfalse%3B%20L_DISABLE_3D%3Dfalse%3B%3C/script%3E%0A%20%20%20%20%3Cscript%20src%3D%22https%3A//cdn.jsdelivr.net/npm/leaflet%401.4.0/dist/leaflet.js%22%3E%3C/script%3E%0A%20%20%20%20%3Cscript%20src%3D%22https%3A//code.jquery.com/jquery-1.12.4.min.js%22%3E%3C/script%3E%0A%20%20%20%20%3Cscript%20src%3D%22https%3A//maxcdn.bootstrapcdn.com/bootstrap/3.2.0/js/bootstrap.min.js%22%3E%3C/script%3E%0A%20%20%20%20%3Cscript%20src%3D%22https%3A//cdnjs.cloudflare.com/ajax/libs/Leaflet.awesome-markers/2.0.2/leaflet.awesome-markers.js%22%3E%3C/script%3E%0A%20%20%20%20%3Clink%20rel%3D%22stylesheet%22%20href%3D%22https%3A//cdn.jsdelivr.net/npm/leaflet%401.4.0/dist/leaflet.css%22/%3E%0A%20%20%20%20%3Clink%20rel%3D%22stylesheet%22%20href%3D%22https%3A//maxcdn.bootstrapcdn.com/bootstrap/3.2.0/css/bootstrap.min.css%22/%3E%0A%20%20%20%20%3Clink%20rel%3D%22stylesheet%22%20href%3D%22https%3A//maxcdn.bootstrapcdn.com/bootstrap/3.2.0/css/bootstrap-theme.min.css%22/%3E%0A%20%20%20%20%3Clink%20rel%3D%22stylesheet%22%20href%3D%22https%3A//maxcdn.bootstrapcdn.com/font-awesome/4.6.3/css/font-awesome.min.css%22/%3E%0A%20%20%20%20%3Clink%20rel%3D%22stylesheet%22%20href%3D%22https%3A//cdnjs.cloudflare.com/ajax/libs/Leaflet.awesome-markers/2.0.2/leaflet.awesome-markers.css%22/%3E%0A%20%20%20%20%3Clink%20rel%3D%22stylesheet%22%20href%3D%22https%3A//rawcdn.githack.com/python-visualization/folium/master/folium/templates/leaflet.awesome.rotate.css%22/%3E%0A%20%20%20%20%3Cstyle%3Ehtml%2C%20body%20%7Bwidth%3A%20100%25%3Bheight%3A%20100%25%3Bmargin%3A%200%3Bpadding%3A%200%3B%7D%3C/style%3E%0A%20%20%20%20%3Cstyle%3E%23map%20%7Bposition%3Aabsolute%3Btop%3A0%3Bbottom%3A0%3Bright%3A0%3Bleft%3A0%3B%7D%3C/style%3E%0A%20%20%20%20%0A%20%20%20%20%3Cmeta%20name%3D%22viewport%22%20content%3D%22width%3Ddevice-width%2C%0A%20%20%20%20%20%20%20%20initial-scale%3D1.0%2C%20maximum-scale%3D1.0%2C%20user-scalable%3Dno%22%20/%3E%0A%20%20%20%20%3Cstyle%3E%23map_9b0b6402d33b49aab6b4b88f5f98523d%20%7B%0A%20%20%20%20%20%20%20%20position%3A%20relative%3B%0A%20%20%20%20%20%20%20%20width%3A%20100.0%25%3B%0A%20%20%20%20%20%20%20%20height%3A%20100.0%25%3B%0A%20%20%20%20%20%20%20%20left%3A%200.0%25%3B%0A%20%20%20%20%20%20%20%20top%3A%200.0%25%3B%0A%20%20%20%20%20%20%20%20%7D%0A%20%20%20%20%3C/style%3E%0A%3C/head%3E%0A%3Cbody%3E%20%20%20%20%0A%20%20%20%20%0A%20%20%20%20%3Cdiv%20class%3D%22folium-map%22%20id%3D%22map_9b0b6402d33b49aab6b4b88f5f98523d%22%20%3E%3C/div%3E%0A%3C/body%3E%0A%3Cscript%3E%20%20%20%20%0A%20%20%20%20%0A%20%20%20%20%0A%20%20%20%20%20%20%20%20var%20bounds%20%3D%20null%3B%0A%20%20%20%20%0A%0A%20%20%20%20var%20map_9b0b6402d33b49aab6b4b88f5f98523d%20%3D%20L.map%28%0A%20%20%20%20%20%20%20%20%27map_9b0b6402d33b49aab6b4b88f5f98523d%27%2C%20%7B%0A%20%20%20%20%20%20%20%20center%3A%20%5B50.06143%2C%2019.93658%5D%2C%0A%20%20%20%20%20%20%20%20zoom%3A%2010%2C%0A%20%20%20%20%20%20%20%20maxBounds%3A%20bounds%2C%0A%20%20%20%20%20%20%20%20layers%3A%20%5B%5D%2C%0A%20%20%20%20%20%20%20%20worldCopyJump%3A%20false%2C%0A%20%20%20%20%20%20%20%20crs%3A%20L.CRS.EPSG3857%2C%0A%20%20%20%20%20%20%20%20zoomControl%3A%20true%2C%0A%20%20%20%20%20%20%20%20%7D%29%3B%0A%0A%0A%20%20%20%20%0A%20%20%20%20var%20tile_layer_d4fa148073d046d380481e95cfac621f%20%3D%20L.tileLayer%28%0A%20%20%20%20%20%20%20%20%27https%3A//%7Bs%7D.tile.openstreetmap.org/%7Bz%7D/%7Bx%7D/%7By%7D.png%27%2C%0A%20%20%20%20%20%20%20%20%7B%0A%20%20%20%20%20%20%20%20%22attribution%22%3A%20null%2C%0A%20%20%20%20%20%20%20%20%22detectRetina%22%3A%20false%2C%0A%20%20%20%20%20%20%20%20%22maxNativeZoom%22%3A%2018%2C%0A%20%20%20%20%20%20%20%20%22maxZoom%22%3A%2018%2C%0A%20%20%20%20%20%20%20%20%22minZoom%22%3A%200%2C%0A%20%20%20%20%20%20%20%20%22noWrap%22%3A%20false%2C%0A%20%20%20%20%20%20%20%20%22opacity%22%3A%201%2C%0A%20%20%20%20%20%20%20%20%22subdomains%22%3A%20%22abc%22%2C%0A%20%20%20%20%20%20%20%20%22tms%22%3A%20false%0A%7D%29.addTo%28map_9b0b6402d33b49aab6b4b88f5f98523d%29%3B%0A%20%20%20%20%0A%20%20%20%20%20%20%20%20var%20marker_b0f74bb7b9754166a073ad4c3a08b5ae%20%3D%20L.marker%28%0A%20%20%20%20%20%20%20%20%20%20%20%20%5B50.87033%2C%2020.62752%5D%2C%0A%20%20%20%20%20%20%20%20%20%20%20%20%7B%0A%20%20%20%20%20%20%20%20%20%20%20%20%20%20%20%20icon%3A%20new%20L.Icon.Default%28%29%2C%0A%20%20%20%20%20%20%20%20%20%20%20%20%20%20%20%20%7D%0A%20%20%20%20%20%20%20%20%20%20%20%20%29.addTo%28map_9b0b6402d33b49aab6b4b88f5f98523d%29%3B%0A%20%20%20%20%20%20%20%20%0A%20%20%20%20%0A%20%20%20%20%20%20%20%20var%20marker_a4cc50ca1ad5470e933a649dc4aaea15%20%3D%20L.marker%28%0A%20%20%20%20%20%20%20%20%20%20%20%20%5B51.1138821%2C%2020.857883%5D%2C%0A%20%20%20%20%20%20%20%20%20%20%20%20%7B%0A%20%20%20%20%20%20%20%20%20%20%20%20%20%20%20%20icon%3A%20new%20L.Icon.Default%28%29%2C%0A%20%20%20%20%20%20%20%20%20%20%20%20%20%20%20%20%7D%0A%20%20%20%20%20%20%20%20%20%20%20%20%29.addTo%28map_9b0b6402d33b49aab6b4b88f5f98523d%29%3B%0A%20%20%20%20%20%20%20%20%0A%20%20%20%20%0A%20%20%20%20%20%20%20%20var%20marker_baabd588f387498eaca443faca2e8f8d%20%3D%20L.marker%28%0A%20%20%20%20%20%20%20%20%20%20%20%20%5B51.0518865%2C%2021.0761377%5D%2C%0A%20%20%20%20%20%20%20%20%20%20%20%20%7B%0A%20%20%20%20%20%20%20%20%20%20%20%20%20%20%20%20icon%3A%20new%20L.Icon.Default%28%29%2C%0A%20%20%20%20%20%20%20%20%20%20%20%20%20%20%20%20%7D%0A%20%20%20%20%20%20%20%20%20%20%20%20%29.addTo%28map_9b0b6402d33b49aab6b4b88f5f98523d%29%3B%0A%20%20%20%20%20%20%20%20%0A%20%20%20%20%0A%20%20%20%20%20%20%20%20var%20marker_14ab9ff813994a75a21d981077787d62%20%3D%20L.marker%28%0A%20%20%20%20%20%20%20%20%20%20%20%20%5B50.9398768%2C%2021.38743%5D%2C%0A%20%20%20%20%20%20%20%20%20%20%20%20%7B%0A%20%20%20%20%20%20%20%20%20%20%20%20%20%20%20%20icon%3A%20new%20L.Icon.Default%28%29%2C%0A%20%20%20%20%20%20%20%20%20%20%20%20%20%20%20%20%7D%0A%20%20%20%20%20%20%20%20%20%20%20%20%29.addTo%28map_9b0b6402d33b49aab6b4b88f5f98523d%29%3B%0A%20%20%20%20%20%20%20%20%0A%20%20%20%20%0A%20%20%20%20%20%20%20%20var%20marker_92bcc1c88afa49549fdc6335ddf900c2%20%3D%20L.marker%28%0A%20%20%20%20%20%20%20%20%20%20%20%20%5B50.8017661%2C%2021.4238281%5D%2C%0A%20%20%20%20%20%20%20%20%20%20%20%20%7B%0A%20%20%20%20%20%20%20%20%20%20%20%20%20%20%20%20icon%3A%20new%20L.Icon.Default%28%29%2C%0A%20%20%20%20%20%20%20%20%20%20%20%20%20%20%20%20%7D%0A%20%20%20%20%20%20%20%20%20%20%20%20%29.addTo%28map_9b0b6402d33b49aab6b4b88f5f98523d%29%3B%0A%20%20%20%20%20%20%20%20%0A%20%20%20%20%0A%20%20%20%20%20%20%20%20var%20marker_a58f3fa8277c420cb82364297a3d0ac3%20%3D%20L.marker%28%0A%20%20%20%20%20%20%20%20%20%20%20%20%5B50.5612276%2C%2021.1677849%5D%2C%0A%20%20%20%20%20%20%20%20%20%20%20%20%7B%0A%20%20%20%20%20%20%20%20%20%20%20%20%20%20%20%20icon%3A%20new%20L.Icon.Default%28%29%2C%0A%20%20%20%20%20%20%20%20%20%20%20%20%20%20%20%20%7D%0A%20%20%20%20%20%20%20%20%20%20%20%20%29.addTo%28map_9b0b6402d33b49aab6b4b88f5f98523d%29%3B%0A%20%20%20%20%20%20%20%20%0A%20%20%20%20%0A%20%20%20%20%20%20%20%20var%20marker_e7f1b79ca6904338894399a9e93dc77d%20%3D%20L.marker%28%0A%20%20%20%20%20%20%20%20%20%20%20%20%5B50.2892506%2C%2021.4243685%5D%2C%0A%20%20%20%20%20%20%20%20%20%20%20%20%7B%0A%20%20%20%20%20%20%20%20%20%20%20%20%20%20%20%20icon%3A%20new%20L.Icon.Default%28%29%2C%0A%20%20%20%20%20%20%20%20%20%20%20%20%20%20%20%20%7D%0A%20%20%20%20%20%20%20%20%20%20%20%20%29.addTo%28map_9b0b6402d33b49aab6b4b88f5f98523d%29%3B%0A%20%20%20%20%20%20%20%20%0A%20%20%20%20%0A%20%20%20%20%20%20%20%20var%20marker_3b1ecbb230824d5394e4bf1141e369e2%20%3D%20L.marker%28%0A%20%20%20%20%20%20%20%20%20%20%20%20%5B50.0514601%2C%2021.4104804%5D%2C%0A%20%20%20%20%20%20%20%20%20%20%20%20%7B%0A%20%20%20%20%20%20%20%20%20%20%20%20%20%20%20%20icon%3A%20new%20L.Icon.Default%28%29%2C%0A%20%20%20%20%20%20%20%20%20%20%20%20%20%20%20%20%7D%0A%20%20%20%20%20%20%20%20%20%20%20%20%29.addTo%28map_9b0b6402d33b49aab6b4b88f5f98523d%29%3B%0A%20%20%20%20%20%20%20%20%0A%20%20%20%20%0A%20%20%20%20%20%20%20%20var%20marker_c516e69e787b444789151bce0236cd1c%20%3D%20L.marker%28%0A%20%20%20%20%20%20%20%20%20%20%20%20%5B50.0528608%2C%2021.6116324%5D%2C%0A%20%20%20%20%20%20%20%20%20%20%20%20%7B%0A%20%20%20%20%20%20%20%20%20%20%20%20%20%20%20%20icon%3A%20new%20L.Icon.Default%28%29%2C%0A%20%20%20%20%20%20%20%20%20%20%20%20%20%20%20%20%7D%0A%20%20%20%20%20%20%20%20%20%20%20%20%29.addTo%28map_9b0b6402d33b49aab6b4b88f5f98523d%29%3B%0A%20%20%20%20%20%20%20%20%0A%20%20%20%20%0A%20%20%20%20%20%20%20%20var%20marker_37ef9f9a02534c5e899a22ad0d71e86e%20%3D%20L.marker%28%0A%20%20%20%20%20%20%20%20%20%20%20%20%5B50.2433277%2C%2021.7754563%5D%2C%0A%20%20%20%20%20%20%20%20%20%20%20%20%7B%0A%20%20%20%20%20%20%20%20%20%20%20%20%20%20%20%20icon%3A%20new%20L.Icon.Default%28%29%2C%0A%20%20%20%20%20%20%20%20%20%20%20%20%20%20%20%20%7D%0A%20%20%20%20%20%20%20%20%20%20%20%20%29.addTo%28map_9b0b6402d33b49aab6b4b88f5f98523d%29%3B%0A%20%20%20%20%20%20%20%20%0A%20%20%20%20%0A%20%20%20%20%20%20%20%20var%20marker_a24b1534700147f283eba2017cd33ec1%20%3D%20L.marker%28%0A%20%20%20%20%20%20%20%20%20%20%20%20%5B50.5715277%2C%2021.6704871%5D%2C%0A%20%20%20%20%20%20%20%20%20%20%20%20%7B%0A%20%20%20%20%20%20%20%20%20%20%20%20%20%20%20%20icon%3A%20new%20L.Icon.Default%28%29%2C%0A%20%20%20%20%20%20%20%20%20%20%20%20%20%20%20%20%7D%0A%20%20%20%20%20%20%20%20%20%20%20%20%29.addTo%28map_9b0b6402d33b49aab6b4b88f5f98523d%29%3B%0A%20%20%20%20%20%20%20%20%0A%20%20%20%20%0A%20%20%20%20%20%20%20%20var%20marker_2fd509a03a9a4d50a7bd198351526dd7%20%3D%20L.marker%28%0A%20%20%20%20%20%20%20%20%20%20%20%20%5B50.68265%2C%2021.74898%5D%2C%0A%20%20%20%20%20%20%20%20%20%20%20%20%7B%0A%20%20%20%20%20%20%20%20%20%20%20%20%20%20%20%20icon%3A%20new%20L.Icon.Default%28%29%2C%0A%20%20%20%20%20%20%20%20%20%20%20%20%20%20%20%20%7D%0A%20%20%20%20%20%20%20%20%20%20%20%20%29.addTo%28map_9b0b6402d33b49aab6b4b88f5f98523d%29%3B%0A%20%20%20%20%20%20%20%20%0A%20%20%20%20%0A%20%20%20%20%20%20%20%20var%20marker_bcc7b91715b645d8891f087e5c263629%20%3D%20L.marker%28%0A%20%20%20%20%20%20%20%20%20%20%20%20%5B50.5653105%2C%2022.0644075%5D%2C%0A%20%20%20%20%20%20%20%20%20%20%20%20%7B%0A%20%20%20%20%20%20%20%20%20%20%20%20%20%20%20%20icon%3A%20new%20L.Icon.Default%28%29%2C%0A%20%20%20%20%20%20%20%20%20%20%20%20%20%20%20%20%7D%0A%20%20%20%20%20%20%20%20%20%20%20%20%29.addTo%28map_9b0b6402d33b49aab6b4b88f5f98523d%29%3B%0A%20%20%20%20%20%20%20%20%0A%20%20%20%20%0A%20%20%20%20%20%20%20%20var%20marker_bc8d8ca59c654e22b9531de68ac319f8%20%3D%20L.marker%28%0A%20%20%20%20%20%20%20%20%20%20%20%20%5B50.5198985%2C%2022.139886%5D%2C%0A%20%20%20%20%20%20%20%20%20%20%20%20%7B%0A%20%20%20%20%20%20%20%20%20%20%20%20%20%20%20%20icon%3A%20new%20L.Icon.Default%28%29%2C%0A%20%20%20%20%20%20%20%20%20%20%20%20%20%20%20%20%7D%0A%20%20%20%20%20%20%20%20%20%20%20%20%29.addTo%28map_9b0b6402d33b49aab6b4b88f5f98523d%29%3B%0A%20%20%20%20%20%20%20%20%0A%20%20%20%20%0A%20%20%20%20%20%20%20%20var%20marker_70ec532c05bf47b8957d339383a2ee0a%20%3D%20L.marker%28%0A%20%20%20%20%20%20%20%20%20%20%20%20%5B50.04132%2C%2021.99901%5D%2C%0A%20%20%20%20%20%20%20%20%20%20%20%20%7B%0A%20%20%20%20%20%20%20%20%20%20%20%20%20%20%20%20icon%3A%20new%20L.Icon.Default%28%29%2C%0A%20%20%20%20%20%20%20%20%20%20%20%20%20%20%20%20%7D%0A%20%20%20%20%20%20%20%20%20%20%20%20%29.addTo%28map_9b0b6402d33b49aab6b4b88f5f98523d%29%3B%0A%20%20%20%20%20%20%20%20%0A%20%20%20%20%0A%20%20%20%20%20%20%20%20var%20marker_ce48946144c9491eb98c5d6302c0ecdf%20%3D%20L.marker%28%0A%20%20%20%20%20%20%20%20%20%20%20%20%5B50.0690725%2C%2022.2320924%5D%2C%0A%20%20%20%20%20%20%20%20%20%20%20%20%7B%0A%20%20%20%20%20%20%20%20%20%20%20%20%20%20%20%20icon%3A%20new%20L.Icon.Default%28%29%2C%0A%20%20%20%20%20%20%20%20%20%20%20%20%20%20%20%20%7D%0A%20%20%20%20%20%20%20%20%20%20%20%20%29.addTo%28map_9b0b6402d33b49aab6b4b88f5f98523d%29%3B%0A%20%20%20%20%20%20%20%20%0A%20%20%20%20%0A%20%20%20%20%20%20%20%20var%20marker_43abf9524d25453fbb18a3a95a1a0e43%20%3D%20L.marker%28%0A%20%20%20%20%20%20%20%20%20%20%20%20%5B50.2621687%2C%2022.418892%5D%2C%0A%20%20%20%20%20%20%20%20%20%20%20%20%7B%0A%20%20%20%20%20%20%20%20%20%20%20%20%20%20%20%20icon%3A%20new%20L.Icon.Default%28%29%2C%0A%20%20%20%20%20%20%20%20%20%20%20%20%20%20%20%20%7D%0A%20%20%20%20%20%20%20%20%20%20%20%20%29.addTo%28map_9b0b6402d33b49aab6b4b88f5f98523d%29%3B%0A%20%20%20%20%20%20%20%20%0A%20%20%20%20%0A%20%20%20%20%20%20%20%20var%20marker_55708c3906a6442297daa640351ed526%20%3D%20L.marker%28%0A%20%20%20%20%20%20%20%20%20%20%20%20%5B50.0601735%2C%2022.4923769%5D%2C%0A%20%20%20%20%20%20%20%20%20%20%20%20%7B%0A%20%20%20%20%20%20%20%20%20%20%20%20%20%20%20%20icon%3A%20new%20L.Icon.Default%28%29%2C%0A%20%20%20%20%20%20%20%20%20%20%20%20%20%20%20%20%7D%0A%20%20%20%20%20%20%20%20%20%20%20%20%29.addTo%28map_9b0b6402d33b49aab6b4b88f5f98523d%29%3B%0A%20%20%20%20%20%20%20%20%0A%20%20%20%20%0A%20%20%20%20%20%20%20%20var%20marker_56c6436984a042019ab69686836366ee%20%3D%20L.marker%28%0A%20%20%20%20%20%20%20%20%20%20%20%20%5B50.0104958%2C%2022.678605%5D%2C%0A%20%20%20%20%20%20%20%20%20%20%20%20%7B%0A%20%20%20%20%20%20%20%20%20%20%20%20%20%20%20%20icon%3A%20new%20L.Icon.Default%28%29%2C%0A%20%20%20%20%20%20%20%20%20%20%20%20%20%20%20%20%7D%0A%20%20%20%20%20%20%20%20%20%20%20%20%29.addTo%28map_9b0b6402d33b49aab6b4b88f5f98523d%29%3B%0A%20%20%20%20%20%20%20%20%0A%20%20%20%20%0A%20%20%20%20%20%20%20%20var%20marker_08e32298538c438094ed620a0756aa5a%20%3D%20L.marker%28%0A%20%20%20%20%20%20%20%20%20%20%20%20%5B50.1574473%2C%2023.1225859%5D%2C%0A%20%20%20%20%20%20%20%20%20%20%20%20%7B%0A%20%20%20%20%20%20%20%20%20%20%20%20%20%20%20%20icon%3A%20new%20L.Icon.Default%28%29%2C%0A%20%20%20%20%20%20%20%20%20%20%20%20%20%20%20%20%7D%0A%20%20%20%20%20%20%20%20%20%20%20%20%29.addTo%28map_9b0b6402d33b49aab6b4b88f5f98523d%29%3B%0A%20%20%20%20%20%20%20%20%0A%20%20%20%20%0A%20%20%20%20%20%20%20%20var%20marker_d155e591574348d9b24aad821ae48013%20%3D%20L.marker%28%0A%20%20%20%20%20%20%20%20%20%20%20%20%5B49.7821562%2C%2022.7692634%5D%2C%0A%20%20%20%20%20%20%20%20%20%20%20%20%7B%0A%20%20%20%20%20%20%20%20%20%20%20%20%20%20%20%20icon%3A%20new%20L.Icon.Default%28%29%2C%0A%20%20%20%20%20%20%20%20%20%20%20%20%20%20%20%20%7D%0A%20%20%20%20%20%20%20%20%20%20%20%20%29.addTo%28map_9b0b6402d33b49aab6b4b88f5f98523d%29%3B%0A%20%20%20%20%20%20%20%20%0A%20%20%20%20%0A%20%20%20%20%20%20%20%20var%20marker_ea83f7bb76a84e1e9e916fa157b96f28%20%3D%20L.marker%28%0A%20%20%20%20%20%20%20%20%20%20%20%20%5B49.4301874%2C%2022.5877003%5D%2C%0A%20%20%20%20%20%20%20%20%20%20%20%20%7B%0A%20%20%20%20%20%20%20%20%20%20%20%20%20%20%20%20icon%3A%20new%20L.Icon.Default%28%29%2C%0A%20%20%20%20%20%20%20%20%20%20%20%20%20%20%20%20%7D%0A%20%20%20%20%20%20%20%20%20%20%20%20%29.addTo%28map_9b0b6402d33b49aab6b4b88f5f98523d%29%3B%0A%20%20%20%20%20%20%20%20%0A%20%20%20%20%0A%20%20%20%20%20%20%20%20var%20marker_3481805affe647488940ace2cf6afaf6%20%3D%20L.marker%28%0A%20%20%20%20%20%20%20%20%20%20%20%20%5B49.4689014%2C%2022.3303816%5D%2C%0A%20%20%20%20%20%20%20%20%20%20%20%20%7B%0A%20%20%20%20%20%20%20%20%20%20%20%20%20%20%20%20icon%3A%20new%20L.Icon.Default%28%29%2C%0A%20%20%20%20%20%20%20%20%20%20%20%20%20%20%20%20%7D%0A%20%20%20%20%20%20%20%20%20%20%20%20%29.addTo%28map_9b0b6402d33b49aab6b4b88f5f98523d%29%3B%0A%20%20%20%20%20%20%20%20%0A%20%20%20%20%0A%20%20%20%20%20%20%20%20var%20marker_192b4144130247fcb0242d03a8a97d92%20%3D%20L.marker%28%0A%20%20%20%20%20%20%20%20%20%20%20%20%5B49.5609053%2C%2022.207028%5D%2C%0A%20%20%20%20%20%20%20%20%20%20%20%20%7B%0A%20%20%20%20%20%20%20%20%20%20%20%20%20%20%20%20icon%3A%20new%20L.Icon.Default%28%29%2C%0A%20%20%20%20%20%20%20%20%20%20%20%20%20%20%20%20%7D%0A%20%20%20%20%20%20%20%20%20%20%20%20%29.addTo%28map_9b0b6402d33b49aab6b4b88f5f98523d%29%3B%0A%20%20%20%20%20%20%20%20%0A%20%20%20%20%0A%20%20%20%20%20%20%20%20var%20marker_bf79cb0e6cbf442a9a6a48bed32b8c42%20%3D%20L.marker%28%0A%20%20%20%20%20%20%20%20%20%20%20%20%5B49.6950395%2C%2022.0196537%5D%2C%0A%20%20%20%20%20%20%20%20%20%20%20%20%7B%0A%20%20%20%20%20%20%20%20%20%20%20%20%20%20%20%20icon%3A%20new%20L.Icon.Default%28%29%2C%0A%20%20%20%20%20%20%20%20%20%20%20%20%20%20%20%20%7D%0A%20%20%20%20%20%20%20%20%20%20%20%20%29.addTo%28map_9b0b6402d33b49aab6b4b88f5f98523d%29%3B%0A%20%20%20%20%20%20%20%20%0A%20%20%20%20%0A%20%20%20%20%20%20%20%20var%20marker_a282ef5013ba447d8a1f2c545651e640%20%3D%20L.marker%28%0A%20%20%20%20%20%20%20%20%20%20%20%20%5B49.870208%2C%2021.7856291%5D%2C%0A%20%20%20%20%20%20%20%20%20%20%20%20%7B%0A%20%20%20%20%20%20%20%20%20%20%20%20%20%20%20%20icon%3A%20new%20L.Icon.Default%28%29%2C%0A%20%20%20%20%20%20%20%20%20%20%20%20%20%20%20%20%7D%0A%20%20%20%20%20%20%20%20%20%20%20%20%29.addTo%28map_9b0b6402d33b49aab6b4b88f5f98523d%29%3B%0A%20%20%20%20%20%20%20%20%0A%20%20%20%20%0A%20%20%20%20%20%20%20%20var%20marker_96aab84004704d0e9b55240111156f39%20%3D%20L.marker%28%0A%20%20%20%20%20%20%20%20%20%20%20%20%5B49.6938045%2C%2021.7651458%5D%2C%0A%20%20%20%20%20%20%20%20%20%20%20%20%7B%0A%20%20%20%20%20%20%20%20%20%20%20%20%20%20%20%20icon%3A%20new%20L.Icon.Default%28%29%2C%0A%20%20%20%20%20%20%20%20%20%20%20%20%20%20%20%20%7D%0A%20%20%20%20%20%20%20%20%20%20%20%20%29.addTo%28map_9b0b6402d33b49aab6b4b88f5f98523d%29%3B%0A%20%20%20%20%20%20%20%20%0A%20%20%20%20%0A%20%20%20%20%20%20%20%20var%20marker_bd4094fedf9849399be780bccd73eb85%20%3D%20L.marker%28%0A%20%20%20%20%20%20%20%20%20%20%20%20%5B49.7470465%2C%2021.4743139%5D%2C%0A%20%20%20%20%20%20%20%20%20%20%20%20%7B%0A%20%20%20%20%20%20%20%20%20%20%20%20%20%20%20%20icon%3A%20new%20L.Icon.Default%28%29%2C%0A%20%20%20%20%20%20%20%20%20%20%20%20%20%20%20%20%7D%0A%20%20%20%20%20%20%20%20%20%20%20%20%29.addTo%28map_9b0b6402d33b49aab6b4b88f5f98523d%29%3B%0A%20%20%20%20%20%20%20%20%0A%20%20%20%20%0A%20%20%20%20%20%20%20%20var%20marker_3cdab0cc58684dcb95deb33a0536c7bb%20%3D%20L.marker%28%0A%20%20%20%20%20%20%20%20%20%20%20%20%5B49.65829%2C%2021.1593832%5D%2C%0A%20%20%20%20%20%20%20%20%20%20%20%20%7B%0A%20%20%20%20%20%20%20%20%20%20%20%20%20%20%20%20icon%3A%20new%20L.Icon.Default%28%29%2C%0A%20%20%20%20%20%20%20%20%20%20%20%20%20%20%20%20%7D%0A%20%20%20%20%20%20%20%20%20%20%20%20%29.addTo%28map_9b0b6402d33b49aab6b4b88f5f98523d%29%3B%0A%20%20%20%20%20%20%20%20%0A%20%20%20%20%0A%20%20%20%20%20%20%20%20var%20marker_acb08b9ae6444feea82d056e7dff508d%20%3D%20L.marker%28%0A%20%20%20%20%20%20%20%20%20%20%20%20%5B50.0123784%2C%2020.9880739%5D%2C%0A%20%20%20%20%20%20%20%20%20%20%20%20%7B%0A%20%20%20%20%20%20%20%20%20%20%20%20%20%20%20%20icon%3A%20new%20L.Icon.Default%28%29%2C%0A%20%20%20%20%20%20%20%20%20%20%20%20%20%20%20%20%7D%0A%20%20%20%20%20%20%20%20%20%20%20%20%29.addTo%28map_9b0b6402d33b49aab6b4b88f5f98523d%29%3B%0A%20%20%20%20%20%20%20%20%0A%20%20%20%20%0A%20%20%20%20%20%20%20%20var%20marker_3ccee8363ba34547bb59622ff17dd631%20%3D%20L.marker%28%0A%20%20%20%20%20%20%20%20%20%20%20%20%5B50.1743495%2C%2020.9850707%5D%2C%0A%20%20%20%20%20%20%20%20%20%20%20%20%7B%0A%20%20%20%20%20%20%20%20%20%20%20%20%20%20%20%20icon%3A%20new%20L.Icon.Default%28%29%2C%0A%20%20%20%20%20%20%20%20%20%20%20%20%20%20%20%20%7D%0A%20%20%20%20%20%20%20%20%20%20%20%20%29.addTo%28map_9b0b6402d33b49aab6b4b88f5f98523d%29%3B%0A%20%20%20%20%20%20%20%20%0A%20%20%20%20%0A%20%20%20%20%20%20%20%20var%20marker_b61114f43f004c00baa4195487fe20a5%20%3D%20L.marker%28%0A%20%20%20%20%20%20%20%20%20%20%20%20%5B50.46759%2C%2020.71919%5D%2C%0A%20%20%20%20%20%20%20%20%20%20%20%20%7B%0A%20%20%20%20%20%20%20%20%20%20%20%20%20%20%20%20icon%3A%20new%20L.Icon.Default%28%29%2C%0A%20%20%20%20%20%20%20%20%20%20%20%20%20%20%20%20%7D%0A%20%20%20%20%20%20%20%20%20%20%20%20%29.addTo%28map_9b0b6402d33b49aab6b4b88f5f98523d%29%3B%0A%20%20%20%20%20%20%20%20%0A%20%20%20%20%0A%20%20%20%20%20%20%20%20var%20marker_79a85f5310ae4110bad26476fd73acef%20%3D%20L.marker%28%0A%20%20%20%20%20%20%20%20%20%20%20%20%5B50.5201929%2C%2020.5256241%5D%2C%0A%20%20%20%20%20%20%20%20%20%20%20%20%7B%0A%20%20%20%20%20%20%20%20%20%20%20%20%20%20%20%20icon%3A%20new%20L.Icon.Default%28%29%2C%0A%20%20%20%20%20%20%20%20%20%20%20%20%20%20%20%20%7D%0A%20%20%20%20%20%20%20%20%20%20%20%20%29.addTo%28map_9b0b6402d33b49aab6b4b88f5f98523d%29%3B%0A%20%20%20%20%20%20%20%20%0A%20%20%20%20%0A%20%20%20%20%20%20%20%20var%20marker_ed019d7a92f44d1496c7368445ecd485%20%3D%20L.marker%28%0A%20%20%20%20%20%20%20%20%20%20%20%20%5B50.267489%2C%2020.4853308%5D%2C%0A%20%20%20%20%20%20%20%20%20%20%20%20%7B%0A%20%20%20%20%20%20%20%20%20%20%20%20%20%20%20%20icon%3A%20new%20L.Icon.Default%28%29%2C%0A%20%20%20%20%20%20%20%20%20%20%20%20%20%20%20%20%7D%0A%20%20%20%20%20%20%20%20%20%20%20%20%29.addTo%28map_9b0b6402d33b49aab6b4b88f5f98523d%29%3B%0A%20%20%20%20%20%20%20%20%0A%20%20%20%20%0A%20%20%20%20%20%20%20%20var%20marker_0dbb35d6516c42c48ad7a3a5eaf548a0%20%3D%20L.marker%28%0A%20%20%20%20%20%20%20%20%20%20%20%20%5B49.9693563%2C%2020.430541%5D%2C%0A%20%20%20%20%20%20%20%20%20%20%20%20%7B%0A%20%20%20%20%20%20%20%20%20%20%20%20%20%20%20%20icon%3A%20new%20L.Icon.Default%28%29%2C%0A%20%20%20%20%20%20%20%20%20%20%20%20%20%20%20%20%7D%0A%20%20%20%20%20%20%20%20%20%20%20%20%29.addTo%28map_9b0b6402d33b49aab6b4b88f5f98523d%29%3B%0A%20%20%20%20%20%20%20%20%0A%20%20%20%20%0A%20%20%20%20%20%20%20%20var%20marker_aa2d5b6f4d864c7fa7b393e29e49dd28%20%3D%20L.marker%28%0A%20%20%20%20%20%20%20%20%20%20%20%20%5B49.9678396%2C%2020.6068496%5D%2C%0A%20%20%20%20%20%20%20%20%20%20%20%20%7B%0A%20%20%20%20%20%20%20%20%20%20%20%20%20%20%20%20icon%3A%20new%20L.Icon.Default%28%29%2C%0A%20%20%20%20%20%20%20%20%20%20%20%20%20%20%20%20%7D%0A%20%20%20%20%20%20%20%20%20%20%20%20%29.addTo%28map_9b0b6402d33b49aab6b4b88f5f98523d%29%3B%0A%20%20%20%20%20%20%20%20%0A%20%20%20%20%0A%20%20%20%20%20%20%20%20var%20marker_b5f46403128e4f1293608eb7ae435115%20%3D%20L.marker%28%0A%20%20%20%20%20%20%20%20%20%20%20%20%5B49.6249173%2C%2020.691346%5D%2C%0A%20%20%20%20%20%20%20%20%20%20%20%20%7B%0A%20%20%20%20%20%20%20%20%20%20%20%20%20%20%20%20icon%3A%20new%20L.Icon.Default%28%29%2C%0A%20%20%20%20%20%20%20%20%20%20%20%20%20%20%20%20%7D%0A%20%20%20%20%20%20%20%20%20%20%20%20%29.addTo%28map_9b0b6402d33b49aab6b4b88f5f98523d%29%3B%0A%20%20%20%20%20%20%20%20%0A%20%20%20%20%0A%20%20%20%20%20%20%20%20var%20marker_4658cfd228594985ab5a34f1d1f5b703%20%3D%20L.marker%28%0A%20%20%20%20%20%20%20%20%20%20%20%20%5B49.7061713%2C%2020.4217266%5D%2C%0A%20%20%20%20%20%20%20%20%20%20%20%20%7B%0A%20%20%20%20%20%20%20%20%20%20%20%20%20%20%20%20icon%3A%20new%20L.Icon.Default%28%29%2C%0A%20%20%20%20%20%20%20%20%20%20%20%20%20%20%20%20%7D%0A%20%20%20%20%20%20%20%20%20%20%20%20%29.addTo%28map_9b0b6402d33b49aab6b4b88f5f98523d%29%3B%0A%20%20%20%20%20%20%20%20%0A%20%20%20%20%0A%20%20%20%20%20%20%20%20var%20marker_c39b0fd557ac4818b44e91499cdba3cd%20%3D%20L.marker%28%0A%20%20%20%20%20%20%20%20%20%20%20%20%5B49.9823773%2C%2020.0602114%5D%2C%0A%20%20%20%20%20%20%20%20%20%20%20%20%7B%0A%20%20%20%20%20%20%20%20%20%20%20%20%20%20%20%20icon%3A%20new%20L.Icon.Default%28%29%2C%0A%20%20%20%20%20%20%20%20%20%20%20%20%20%20%20%20%7D%0A%20%20%20%20%20%20%20%20%20%20%20%20%29.addTo%28map_9b0b6402d33b49aab6b4b88f5f98523d%29%3B%0A%20%20%20%20%20%20%20%20%0A%20%20%20%20%0A%20%20%20%20%20%20%20%20var%20marker_4f558671d62f4e6f9300d4d053932b03%20%3D%20L.marker%28%0A%20%20%20%20%20%20%20%20%20%20%20%20%5B50.06143%2C%2019.93658%5D%2C%0A%20%20%20%20%20%20%20%20%20%20%20%20%7B%0A%20%20%20%20%20%20%20%20%20%20%20%20%20%20%20%20icon%3A%20new%20L.Icon.Default%28%29%2C%0A%20%20%20%20%20%20%20%20%20%20%20%20%20%20%20%20%7D%0A%20%20%20%20%20%20%20%20%20%20%20%20%29.addTo%28map_9b0b6402d33b49aab6b4b88f5f98523d%29%3B%0A%20%20%20%20%20%20%20%20%0A%20%20%20%20%0A%20%20%20%20%20%20%20%20var%20marker_2fbb41112dbc4569bd796249197084f9%20%3D%20L.marker%28%0A%20%20%20%20%20%20%20%20%20%20%20%20%5B49.834608%2C%2019.9384283%5D%2C%0A%20%20%20%20%20%20%20%20%20%20%20%20%7B%0A%20%20%20%20%20%20%20%20%20%20%20%20%20%20%20%20icon%3A%20new%20L.Icon.Default%28%29%2C%0A%20%20%20%20%20%20%20%20%20%20%20%20%20%20%20%20%7D%0A%20%20%20%20%20%20%20%20%20%20%20%20%29.addTo%28map_9b0b6402d33b49aab6b4b88f5f98523d%29%3B%0A%20%20%20%20%20%20%20%20%0A%20%20%20%20%0A%20%20%20%20%20%20%20%20var%20marker_daeafb0c368b4fec9cb488eafcda5939%20%3D%20L.marker%28%0A%20%20%20%20%20%20%20%20%20%20%20%20%5B49.4818229%2C%2020.030541%5D%2C%0A%20%20%20%20%20%20%20%20%20%20%20%20%7B%0A%20%20%20%20%20%20%20%20%20%20%20%20%20%20%20%20icon%3A%20new%20L.Icon.Default%28%29%2C%0A%20%20%20%20%20%20%20%20%20%20%20%20%20%20%20%20%7D%0A%20%20%20%20%20%20%20%20%20%20%20%20%29.addTo%28map_9b0b6402d33b49aab6b4b88f5f98523d%29%3B%0A%20%20%20%20%20%20%20%20%0A%20%20%20%20%0A%20%20%20%20%20%20%20%20var%20marker_bd32ae627db1414e859c7260f5c7a86e%20%3D%20L.marker%28%0A%20%20%20%20%20%20%20%20%20%20%20%20%5B49.2969446%2C%2019.950659%5D%2C%0A%20%20%20%20%20%20%20%20%20%20%20%20%7B%0A%20%20%20%20%20%20%20%20%20%20%20%20%20%20%20%20icon%3A%20new%20L.Icon.Default%28%29%2C%0A%20%20%20%20%20%20%20%20%20%20%20%20%20%20%20%20%7D%0A%20%20%20%20%20%20%20%20%20%20%20%20%29.addTo%28map_9b0b6402d33b49aab6b4b88f5f98523d%29%3B%0A%20%20%20%20%20%20%20%20%0A%20%20%20%20%0A%20%20%20%20%20%20%20%20var%20marker_8f49785344af4b37ac7d4f4b00fbfe96%20%3D%20L.marker%28%0A%20%20%20%20%20%20%20%20%20%20%20%20%5B49.74079%2C%2019.5905975%5D%2C%0A%20%20%20%20%20%20%20%20%20%20%20%20%7B%0A%20%20%20%20%20%20%20%20%20%20%20%20%20%20%20%20icon%3A%20new%20L.Icon.Default%28%29%2C%0A%20%20%20%20%20%20%20%20%20%20%20%20%20%20%20%20%7D%0A%20%20%20%20%20%20%20%20%20%20%20%20%29.addTo%28map_9b0b6402d33b49aab6b4b88f5f98523d%29%3B%0A%20%20%20%20%20%20%20%20%0A%20%20%20%20%0A%20%20%20%20%20%20%20%20var%20marker_188b561a85da450783479a4f589f57a0%20%3D%20L.marker%28%0A%20%20%20%20%20%20%20%20%20%20%20%20%5B49.8834484%2C%2019.4925345%5D%2C%0A%20%20%20%20%20%20%20%20%20%20%20%20%7B%0A%20%20%20%20%20%20%20%20%20%20%20%20%20%20%20%20icon%3A%20new%20L.Icon.Default%28%29%2C%0A%20%20%20%20%20%20%20%20%20%20%20%20%20%20%20%20%7D%0A%20%20%20%20%20%20%20%20%20%20%20%20%29.addTo%28map_9b0b6402d33b49aab6b4b88f5f98523d%29%3B%0A%20%20%20%20%20%20%20%20%0A%20%20%20%20%0A%20%20%20%20%20%20%20%20var%20marker_693c0f03d12243cbb51f18ed30a7c27d%20%3D%20L.marker%28%0A%20%20%20%20%20%20%20%20%20%20%20%20%5B50.0382443%2C%2019.2214053%5D%2C%0A%20%20%20%20%20%20%20%20%20%20%20%20%7B%0A%20%20%20%20%20%20%20%20%20%20%20%20%20%20%20%20icon%3A%20new%20L.Icon.Default%28%29%2C%0A%20%20%20%20%20%20%20%20%20%20%20%20%20%20%20%20%7D%0A%20%20%20%20%20%20%20%20%20%20%20%20%29.addTo%28map_9b0b6402d33b49aab6b4b88f5f98523d%29%3B%0A%20%20%20%20%20%20%20%20%0A%20%20%20%20%0A%20%20%20%20%20%20%20%20var%20marker_0ca97fc1ad1648389bab9892a01bcab7%20%3D%20L.marker%28%0A%20%20%20%20%20%20%20%20%20%20%20%20%5B50.1411926%2C%2019.4028502%5D%2C%0A%20%20%20%20%20%20%20%20%20%20%20%20%7B%0A%20%20%20%20%20%20%20%20%20%20%20%20%20%20%20%20icon%3A%20new%20L.Icon.Default%28%29%2C%0A%20%20%20%20%20%20%20%20%20%20%20%20%20%20%20%20%7D%0A%20%20%20%20%20%20%20%20%20%20%20%20%29.addTo%28map_9b0b6402d33b49aab6b4b88f5f98523d%29%3B%0A%20%20%20%20%20%20%20%20%0A%20%20%20%20%0A%20%20%20%20%20%20%20%20var%20marker_5d9474a3789242adb7e6e77d718780ed%20%3D%20L.marker%28%0A%20%20%20%20%20%20%20%20%20%20%20%20%5B50.2788158%2C%2019.5596307%5D%2C%0A%20%20%20%20%20%20%20%20%20%20%20%20%7B%0A%20%20%20%20%20%20%20%20%20%20%20%20%20%20%20%20icon%3A%20new%20L.Icon.Default%28%29%2C%0A%20%20%20%20%20%20%20%20%20%20%20%20%20%20%20%20%7D%0A%20%20%20%20%20%20%20%20%20%20%20%20%29.addTo%28map_9b0b6402d33b49aab6b4b88f5f98523d%29%3B%0A%20%20%20%20%20%20%20%20%0A%20%20%20%20%0A%20%20%20%20%20%20%20%20var%20marker_bff60ca478824bff807350e348e4cf4e%20%3D%20L.marker%28%0A%20%20%20%20%20%20%20%20%20%20%20%20%5B50.3566016%2C%2020.0276912%5D%2C%0A%20%20%20%20%20%20%20%20%20%20%20%20%7B%0A%20%20%20%20%20%20%20%20%20%20%20%20%20%20%20%20icon%3A%20new%20L.Icon.Default%28%29%2C%0A%20%20%20%20%20%20%20%20%20%20%20%20%20%20%20%20%7D%0A%20%20%20%20%20%20%20%20%20%20%20%20%29.addTo%28map_9b0b6402d33b49aab6b4b88f5f98523d%29%3B%0A%20%20%20%20%20%20%20%20%0A%20%20%20%20%0A%20%20%20%20%20%20%20%20var%20marker_adb50e4bed784fe38fad12c2741dea4e%20%3D%20L.marker%28%0A%20%20%20%20%20%20%20%20%20%20%20%20%5B50.6394435%2C%2020.3046116%5D%2C%0A%20%20%20%20%20%20%20%20%20%20%20%20%7B%0A%20%20%20%20%20%20%20%20%20%20%20%20%20%20%20%20icon%3A%20new%20L.Icon.Default%28%29%2C%0A%20%20%20%20%20%20%20%20%20%20%20%20%20%20%20%20%7D%0A%20%20%20%20%20%20%20%20%20%20%20%20%29.addTo%28map_9b0b6402d33b49aab6b4b88f5f98523d%29%3B%0A%20%20%20%20%20%20%20%20%0A%20%20%20%20%0A%20%20%20%20%20%20%20%20var%20marker_3b0f644e9ec94a06bc05386a862853d5%20%3D%20L.marker%28%0A%20%20%20%20%20%20%20%20%20%20%20%20%5B50.8520727%2C%2019.9667772%5D%2C%0A%20%20%20%20%20%20%20%20%20%20%20%20%7B%0A%20%20%20%20%20%20%20%20%20%20%20%20%20%20%20%20icon%3A%20new%20L.Icon.Default%28%29%2C%0A%20%20%20%20%20%20%20%20%20%20%20%20%20%20%20%20%7D%0A%20%20%20%20%20%20%20%20%20%20%20%20%29.addTo%28map_9b0b6402d33b49aab6b4b88f5f98523d%29%3B%0A%20%20%20%20%20%20%20%20%0A%20%20%20%20%0A%20%20%20%20%20%20%20%20var%20marker_9e3d64371c254b72908ba08490053be6%20%3D%20L.marker%28%0A%20%20%20%20%20%20%20%20%20%20%20%20%5B51.1910223%2C%2020.4071836%5D%2C%0A%20%20%20%20%20%20%20%20%20%20%20%20%7B%0A%20%20%20%20%20%20%20%20%20%20%20%20%20%20%20%20icon%3A%20new%20L.Icon.Default%28%29%2C%0A%20%20%20%20%20%20%20%20%20%20%20%20%20%20%20%20%7D%0A%20%20%20%20%20%20%20%20%20%20%20%20%29.addTo%28map_9b0b6402d33b49aab6b4b88f5f98523d%29%3B%0A%20%20%20%20%20%20%20%20%0A%20%20%20%20%0A%20%20%20%20%20%20%20%20var%20marker_60b50b43b3c54075ab2a791671a2e54a%20%3D%20L.marker%28%0A%20%20%20%20%20%20%20%20%20%20%20%20%5B50.87033%2C%2020.62752%5D%2C%0A%20%20%20%20%20%20%20%20%20%20%20%20%7B%0A%20%20%20%20%20%20%20%20%20%20%20%20%20%20%20%20icon%3A%20new%20L.Icon.Default%28%29%2C%0A%20%20%20%20%20%20%20%20%20%20%20%20%20%20%20%20%7D%0A%20%20%20%20%20%20%20%20%20%20%20%20%29.addTo%28map_9b0b6402d33b49aab6b4b88f5f98523d%29%3B%0A%20%20%20%20%20%20%20%20%0A%20%20%20%20%0A%20%20%20%20%20%20%20%20%20%20%20%20%20%20%20%20var%20poly_line_5acf601fc0004ee69d93c2b908f9a098%20%3D%20L.polyline%28%0A%20%20%20%20%20%20%20%20%20%20%20%20%20%20%20%20%20%20%20%20%5B%5B50.87033%2C%2020.62752%5D%2C%20%5B51.1138821%2C%2020.857883%5D%2C%20%5B51.0518865%2C%2021.0761377%5D%2C%20%5B50.9398768%2C%2021.38743%5D%2C%20%5B50.8017661%2C%2021.4238281%5D%2C%20%5B50.5612276%2C%2021.1677849%5D%2C%20%5B50.2892506%2C%2021.4243685%5D%2C%20%5B50.0514601%2C%2021.4104804%5D%2C%20%5B50.0528608%2C%2021.6116324%5D%2C%20%5B50.2433277%2C%2021.7754563%5D%2C%20%5B50.5715277%2C%2021.6704871%5D%2C%20%5B50.68265%2C%2021.74898%5D%2C%20%5B50.5653105%2C%2022.0644075%5D%2C%20%5B50.5198985%2C%2022.139886%5D%2C%20%5B50.04132%2C%2021.99901%5D%2C%20%5B50.0690725%2C%2022.2320924%5D%2C%20%5B50.2621687%2C%2022.418892%5D%2C%20%5B50.0601735%2C%2022.4923769%5D%2C%20%5B50.0104958%2C%2022.678605%5D%2C%20%5B50.1574473%2C%2023.1225859%5D%2C%20%5B49.7821562%2C%2022.7692634%5D%2C%20%5B49.4301874%2C%2022.5877003%5D%2C%20%5B49.4689014%2C%2022.3303816%5D%2C%20%5B49.5609053%2C%2022.207028%5D%2C%20%5B49.6950395%2C%2022.0196537%5D%2C%20%5B49.870208%2C%2021.7856291%5D%2C%20%5B49.6938045%2C%2021.7651458%5D%2C%20%5B49.7470465%2C%2021.4743139%5D%2C%20%5B49.65829%2C%2021.1593832%5D%2C%20%5B50.0123784%2C%2020.9880739%5D%2C%20%5B50.1743495%2C%2020.9850707%5D%2C%20%5B50.46759%2C%2020.71919%5D%2C%20%5B50.5201929%2C%2020.5256241%5D%2C%20%5B50.267489%2C%2020.4853308%5D%2C%20%5B49.9693563%2C%2020.430541%5D%2C%20%5B49.9678396%2C%2020.6068496%5D%2C%20%5B49.6249173%2C%2020.691346%5D%2C%20%5B49.7061713%2C%2020.4217266%5D%2C%20%5B49.9823773%2C%2020.0602114%5D%2C%20%5B50.06143%2C%2019.93658%5D%2C%20%5B49.834608%2C%2019.9384283%5D%2C%20%5B49.4818229%2C%2020.030541%5D%2C%20%5B49.2969446%2C%2019.950659%5D%2C%20%5B49.74079%2C%2019.5905975%5D%2C%20%5B49.8834484%2C%2019.4925345%5D%2C%20%5B50.0382443%2C%2019.2214053%5D%2C%20%5B50.1411926%2C%2019.4028502%5D%2C%20%5B50.2788158%2C%2019.5596307%5D%2C%20%5B50.3566016%2C%2020.0276912%5D%2C%20%5B50.6394435%2C%2020.3046116%5D%2C%20%5B50.8520727%2C%2019.9667772%5D%2C%20%5B51.1910223%2C%2020.4071836%5D%2C%20%5B50.87033%2C%2020.62752%5D%5D%2C%0A%20%20%20%20%20%20%20%20%20%20%20%20%20%20%20%20%20%20%20%20%7B%0A%20%20%22bubblingMouseEvents%22%3A%20true%2C%0A%20%20%22color%22%3A%20%22red%22%2C%0A%20%20%22dashArray%22%3A%20null%2C%0A%20%20%22dashOffset%22%3A%20null%2C%0A%20%20%22fill%22%3A%20false%2C%0A%20%20%22fillColor%22%3A%20%22red%22%2C%0A%20%20%22fillOpacity%22%3A%200.2%2C%0A%20%20%22fillRule%22%3A%20%22evenodd%22%2C%0A%20%20%22lineCap%22%3A%20%22round%22%2C%0A%20%20%22lineJoin%22%3A%20%22round%22%2C%0A%20%20%22noClip%22%3A%20false%2C%0A%20%20%22opacity%22%3A%201%2C%0A%20%20%22smoothFactor%22%3A%201.0%2C%0A%20%20%22stroke%22%3A%20true%2C%0A%20%20%22weight%22%3A%202.5%0A%7D%0A%20%20%20%20%20%20%20%20%20%20%20%20%20%20%20%20%20%20%20%20%29%0A%20%20%20%20%20%20%20%20%20%20%20%20%20%20%20%20%20%20%20%20.addTo%28map_9b0b6402d33b49aab6b4b88f5f98523d%29%3B%0A%20%20%20%20%20%20%20%20%20%20%20%20%0A%3C/script%3E onload=\"this.contentDocument.open();this.contentDocument.write(    decodeURIComponent(this.getAttribute('data-html')));this.contentDocument.close();\" allowfullscreen webkitallowfullscreen mozallowfullscreen></iframe></div></div>"
            ],
            "text/plain": [
              "<folium.folium.Map at 0x7f3f0876e0b8>"
            ]
          },
          "metadata": {
            "tags": []
          },
          "execution_count": 32
        }
      ]
    },
    {
      "cell_type": "code",
      "metadata": {
        "colab": {
          "base_uri": "https://localhost:8080/",
          "height": 771
        },
        "id": "18mr0f66VoVr",
        "outputId": "60736d75-ad7b-4fc3-fa79-8d4853a7cfd9"
      },
      "source": [
        "my_map = folium.Map([50.0614300,19.9365800])\r\n",
        "    \r\n",
        "folium.PolyLine(tour, color=\"red\", weight=2.5, opacity=1).add_to(my_map)\r\n",
        "my_map"
      ],
      "execution_count": 33,
      "outputs": [
        {
          "output_type": "execute_result",
          "data": {
            "text/html": [
              "<div style=\"width:100%;\"><div style=\"position:relative;width:100%;height:0;padding-bottom:60%;\"><span style=\"color:#565656\">Make this Notebook Trusted to load map: File -> Trust Notebook</span><iframe src=\"about:blank\" style=\"position:absolute;width:100%;height:100%;left:0;top:0;border:none !important;\" data-html=%3C%21DOCTYPE%20html%3E%0A%3Chead%3E%20%20%20%20%0A%20%20%20%20%3Cmeta%20http-equiv%3D%22content-type%22%20content%3D%22text/html%3B%20charset%3DUTF-8%22%20/%3E%0A%20%20%20%20%3Cscript%3EL_PREFER_CANVAS%3Dfalse%3B%20L_NO_TOUCH%3Dfalse%3B%20L_DISABLE_3D%3Dfalse%3B%3C/script%3E%0A%20%20%20%20%3Cscript%20src%3D%22https%3A//cdn.jsdelivr.net/npm/leaflet%401.4.0/dist/leaflet.js%22%3E%3C/script%3E%0A%20%20%20%20%3Cscript%20src%3D%22https%3A//code.jquery.com/jquery-1.12.4.min.js%22%3E%3C/script%3E%0A%20%20%20%20%3Cscript%20src%3D%22https%3A//maxcdn.bootstrapcdn.com/bootstrap/3.2.0/js/bootstrap.min.js%22%3E%3C/script%3E%0A%20%20%20%20%3Cscript%20src%3D%22https%3A//cdnjs.cloudflare.com/ajax/libs/Leaflet.awesome-markers/2.0.2/leaflet.awesome-markers.js%22%3E%3C/script%3E%0A%20%20%20%20%3Clink%20rel%3D%22stylesheet%22%20href%3D%22https%3A//cdn.jsdelivr.net/npm/leaflet%401.4.0/dist/leaflet.css%22/%3E%0A%20%20%20%20%3Clink%20rel%3D%22stylesheet%22%20href%3D%22https%3A//maxcdn.bootstrapcdn.com/bootstrap/3.2.0/css/bootstrap.min.css%22/%3E%0A%20%20%20%20%3Clink%20rel%3D%22stylesheet%22%20href%3D%22https%3A//maxcdn.bootstrapcdn.com/bootstrap/3.2.0/css/bootstrap-theme.min.css%22/%3E%0A%20%20%20%20%3Clink%20rel%3D%22stylesheet%22%20href%3D%22https%3A//maxcdn.bootstrapcdn.com/font-awesome/4.6.3/css/font-awesome.min.css%22/%3E%0A%20%20%20%20%3Clink%20rel%3D%22stylesheet%22%20href%3D%22https%3A//cdnjs.cloudflare.com/ajax/libs/Leaflet.awesome-markers/2.0.2/leaflet.awesome-markers.css%22/%3E%0A%20%20%20%20%3Clink%20rel%3D%22stylesheet%22%20href%3D%22https%3A//rawcdn.githack.com/python-visualization/folium/master/folium/templates/leaflet.awesome.rotate.css%22/%3E%0A%20%20%20%20%3Cstyle%3Ehtml%2C%20body%20%7Bwidth%3A%20100%25%3Bheight%3A%20100%25%3Bmargin%3A%200%3Bpadding%3A%200%3B%7D%3C/style%3E%0A%20%20%20%20%3Cstyle%3E%23map%20%7Bposition%3Aabsolute%3Btop%3A0%3Bbottom%3A0%3Bright%3A0%3Bleft%3A0%3B%7D%3C/style%3E%0A%20%20%20%20%0A%20%20%20%20%3Cmeta%20name%3D%22viewport%22%20content%3D%22width%3Ddevice-width%2C%0A%20%20%20%20%20%20%20%20initial-scale%3D1.0%2C%20maximum-scale%3D1.0%2C%20user-scalable%3Dno%22%20/%3E%0A%20%20%20%20%3Cstyle%3E%23map_48fdb41eedda464c900ae9e651c91a4e%20%7B%0A%20%20%20%20%20%20%20%20position%3A%20relative%3B%0A%20%20%20%20%20%20%20%20width%3A%20100.0%25%3B%0A%20%20%20%20%20%20%20%20height%3A%20100.0%25%3B%0A%20%20%20%20%20%20%20%20left%3A%200.0%25%3B%0A%20%20%20%20%20%20%20%20top%3A%200.0%25%3B%0A%20%20%20%20%20%20%20%20%7D%0A%20%20%20%20%3C/style%3E%0A%3C/head%3E%0A%3Cbody%3E%20%20%20%20%0A%20%20%20%20%0A%20%20%20%20%3Cdiv%20class%3D%22folium-map%22%20id%3D%22map_48fdb41eedda464c900ae9e651c91a4e%22%20%3E%3C/div%3E%0A%3C/body%3E%0A%3Cscript%3E%20%20%20%20%0A%20%20%20%20%0A%20%20%20%20%0A%20%20%20%20%20%20%20%20var%20bounds%20%3D%20null%3B%0A%20%20%20%20%0A%0A%20%20%20%20var%20map_48fdb41eedda464c900ae9e651c91a4e%20%3D%20L.map%28%0A%20%20%20%20%20%20%20%20%27map_48fdb41eedda464c900ae9e651c91a4e%27%2C%20%7B%0A%20%20%20%20%20%20%20%20center%3A%20%5B50.06143%2C%2019.93658%5D%2C%0A%20%20%20%20%20%20%20%20zoom%3A%2010%2C%0A%20%20%20%20%20%20%20%20maxBounds%3A%20bounds%2C%0A%20%20%20%20%20%20%20%20layers%3A%20%5B%5D%2C%0A%20%20%20%20%20%20%20%20worldCopyJump%3A%20false%2C%0A%20%20%20%20%20%20%20%20crs%3A%20L.CRS.EPSG3857%2C%0A%20%20%20%20%20%20%20%20zoomControl%3A%20true%2C%0A%20%20%20%20%20%20%20%20%7D%29%3B%0A%0A%0A%20%20%20%20%0A%20%20%20%20var%20tile_layer_844034d46c9844ac99a0d66dc462c848%20%3D%20L.tileLayer%28%0A%20%20%20%20%20%20%20%20%27https%3A//%7Bs%7D.tile.openstreetmap.org/%7Bz%7D/%7Bx%7D/%7By%7D.png%27%2C%0A%20%20%20%20%20%20%20%20%7B%0A%20%20%20%20%20%20%20%20%22attribution%22%3A%20null%2C%0A%20%20%20%20%20%20%20%20%22detectRetina%22%3A%20false%2C%0A%20%20%20%20%20%20%20%20%22maxNativeZoom%22%3A%2018%2C%0A%20%20%20%20%20%20%20%20%22maxZoom%22%3A%2018%2C%0A%20%20%20%20%20%20%20%20%22minZoom%22%3A%200%2C%0A%20%20%20%20%20%20%20%20%22noWrap%22%3A%20false%2C%0A%20%20%20%20%20%20%20%20%22opacity%22%3A%201%2C%0A%20%20%20%20%20%20%20%20%22subdomains%22%3A%20%22abc%22%2C%0A%20%20%20%20%20%20%20%20%22tms%22%3A%20false%0A%7D%29.addTo%28map_48fdb41eedda464c900ae9e651c91a4e%29%3B%0A%20%20%20%20%0A%20%20%20%20%20%20%20%20%20%20%20%20%20%20%20%20var%20poly_line_48469b94b9b8419fa54d5c9038f952df%20%3D%20L.polyline%28%0A%20%20%20%20%20%20%20%20%20%20%20%20%20%20%20%20%20%20%20%20%5B%5B50.87033%2C%2020.62752%5D%2C%20%5B51.1138821%2C%2020.857883%5D%2C%20%5B51.0518865%2C%2021.0761377%5D%2C%20%5B50.9398768%2C%2021.38743%5D%2C%20%5B50.8017661%2C%2021.4238281%5D%2C%20%5B50.5612276%2C%2021.1677849%5D%2C%20%5B50.2892506%2C%2021.4243685%5D%2C%20%5B50.0514601%2C%2021.4104804%5D%2C%20%5B50.0528608%2C%2021.6116324%5D%2C%20%5B50.2433277%2C%2021.7754563%5D%2C%20%5B50.5715277%2C%2021.6704871%5D%2C%20%5B50.68265%2C%2021.74898%5D%2C%20%5B50.5653105%2C%2022.0644075%5D%2C%20%5B50.5198985%2C%2022.139886%5D%2C%20%5B50.04132%2C%2021.99901%5D%2C%20%5B50.0690725%2C%2022.2320924%5D%2C%20%5B50.2621687%2C%2022.418892%5D%2C%20%5B50.0601735%2C%2022.4923769%5D%2C%20%5B50.0104958%2C%2022.678605%5D%2C%20%5B50.1574473%2C%2023.1225859%5D%2C%20%5B49.7821562%2C%2022.7692634%5D%2C%20%5B49.4301874%2C%2022.5877003%5D%2C%20%5B49.4689014%2C%2022.3303816%5D%2C%20%5B49.5609053%2C%2022.207028%5D%2C%20%5B49.6950395%2C%2022.0196537%5D%2C%20%5B49.870208%2C%2021.7856291%5D%2C%20%5B49.6938045%2C%2021.7651458%5D%2C%20%5B49.7470465%2C%2021.4743139%5D%2C%20%5B49.65829%2C%2021.1593832%5D%2C%20%5B50.0123784%2C%2020.9880739%5D%2C%20%5B50.1743495%2C%2020.9850707%5D%2C%20%5B50.46759%2C%2020.71919%5D%2C%20%5B50.5201929%2C%2020.5256241%5D%2C%20%5B50.267489%2C%2020.4853308%5D%2C%20%5B49.9693563%2C%2020.430541%5D%2C%20%5B49.9678396%2C%2020.6068496%5D%2C%20%5B49.6249173%2C%2020.691346%5D%2C%20%5B49.7061713%2C%2020.4217266%5D%2C%20%5B49.9823773%2C%2020.0602114%5D%2C%20%5B50.06143%2C%2019.93658%5D%2C%20%5B49.834608%2C%2019.9384283%5D%2C%20%5B49.4818229%2C%2020.030541%5D%2C%20%5B49.2969446%2C%2019.950659%5D%2C%20%5B49.74079%2C%2019.5905975%5D%2C%20%5B49.8834484%2C%2019.4925345%5D%2C%20%5B50.0382443%2C%2019.2214053%5D%2C%20%5B50.1411926%2C%2019.4028502%5D%2C%20%5B50.2788158%2C%2019.5596307%5D%2C%20%5B50.3566016%2C%2020.0276912%5D%2C%20%5B50.6394435%2C%2020.3046116%5D%2C%20%5B50.8520727%2C%2019.9667772%5D%2C%20%5B51.1910223%2C%2020.4071836%5D%2C%20%5B50.87033%2C%2020.62752%5D%5D%2C%0A%20%20%20%20%20%20%20%20%20%20%20%20%20%20%20%20%20%20%20%20%7B%0A%20%20%22bubblingMouseEvents%22%3A%20true%2C%0A%20%20%22color%22%3A%20%22red%22%2C%0A%20%20%22dashArray%22%3A%20null%2C%0A%20%20%22dashOffset%22%3A%20null%2C%0A%20%20%22fill%22%3A%20false%2C%0A%20%20%22fillColor%22%3A%20%22red%22%2C%0A%20%20%22fillOpacity%22%3A%200.2%2C%0A%20%20%22fillRule%22%3A%20%22evenodd%22%2C%0A%20%20%22lineCap%22%3A%20%22round%22%2C%0A%20%20%22lineJoin%22%3A%20%22round%22%2C%0A%20%20%22noClip%22%3A%20false%2C%0A%20%20%22opacity%22%3A%201%2C%0A%20%20%22smoothFactor%22%3A%201.0%2C%0A%20%20%22stroke%22%3A%20true%2C%0A%20%20%22weight%22%3A%202.5%0A%7D%0A%20%20%20%20%20%20%20%20%20%20%20%20%20%20%20%20%20%20%20%20%29%0A%20%20%20%20%20%20%20%20%20%20%20%20%20%20%20%20%20%20%20%20.addTo%28map_48fdb41eedda464c900ae9e651c91a4e%29%3B%0A%20%20%20%20%20%20%20%20%20%20%20%20%0A%3C/script%3E onload=\"this.contentDocument.open();this.contentDocument.write(    decodeURIComponent(this.getAttribute('data-html')));this.contentDocument.close();\" allowfullscreen webkitallowfullscreen mozallowfullscreen></iframe></div></div>"
            ],
            "text/plain": [
              "<folium.folium.Map at 0x7f3f0875fdd8>"
            ]
          },
          "metadata": {
            "tags": []
          },
          "execution_count": 33
        }
      ]
    }
  ]
}